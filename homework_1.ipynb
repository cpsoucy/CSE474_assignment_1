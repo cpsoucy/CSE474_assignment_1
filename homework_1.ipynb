{
 "cells": [
  {
   "attachments": {},
   "cell_type": "markdown",
   "metadata": {
    "id": "KH1K6cXFvnmj"
   },
   "source": [
    "<div align=\"center\"> <h3><font color='#2cab9e'>CSE 474/574: Introduction to Machine Learning, Summer 2023 </font>\n",
    "<h1> Assignment 1 - Introduction to Python\n",
    "\n",
    "<h2><font color='red'>Due Date: </font> June 8, Thursday, 11:59pm ET</div>\n",
    "\n",
    "Welcome to your first CSE 574 assignment! The goal of this assignment is to sharpen your programming skills needed for this class. It is focused on familiarizing yourself with Python and main data science libraries that will be used for other assignments as well.\n",
    "\n",
    "There are a total of four parts with an additional bonus part. We will focus on basic Python functions, explore NumPy, Pandas and Matplotlib libraries and analyze the real-world dataset.\n",
    "\n",
    "If you are new to Python, check our [Python resources page](https://ubuffalo-my.sharepoint.com/:w:/g/personal/avereshc_buffalo_edu/ESoUg6v6aoJImaeWXy90SqMBiubxGGAkG7dhaNyhuBum_w?e=3Tlwbz).\n",
    "\n",
    "\n",
    "### Submission\n",
    "\n",
    "All the details you need for this assignment are located within this notebook. You are expected to follow every block and complete the task within the marks ``` # BEGIN_YOUR_CODE ``` and ```# END_YOUR_CODE```. Do not modify or edit code beyond these lines. You can add helper functions in the new cells, if needed. We recommend completing the task within this .ipynb notebook, if needed you can convert it and submit as .py script. Try to make your code as clean and simple as possible and be sure to write your answers between the begin answer and end answer comments.\n",
    "\n",
    "1. Submit at **UBLearns > Assignments**\n",
    "2. The code of your implementations should be written in Python\n",
    "3. All project files should be packed in a ZIP file named YOUR_FIRST_NAME_YOUR_LAST_NAME_assignment1.zip (e.g. nitin_kulkarni_assignment1.zip).\n",
    "4. Your Jupyter notebook should be saved with the results. If you are submitting python scripts, after extracting the ZIP file and executing command python main.py in the first level directory, all the generated results and plots you used in your report should appear printed out in a clear manner.  \n",
    "6. Include all the references that have been used to complete the assignment.\n",
    "\n",
    "### Final Submission <font color='red'>[Due Date: June 8]</font>\n",
    "Complete all parts of the assignment and submit the code (.ipynb with saved outputs) in the ZIP file named YOUR_FIRST_NAME_YOUR_LAST_NAME_assignment1.zip.\n",
    "\n",
    "**Assignment Outline**\n",
    "\n",
    "| Part             | Description | # of tasks | Points |\n",
    "|------------------| --- |------------|--------|\n",
    "| [Part 1](#part1) | Basics, Numpy Basics | 20         | 25     |\n",
    "| [Part 2](#part2) | Algorithms | 2          | 25     |\n",
    "| [Part 3](#part3) | Pandas Basics | 7          | 25     |\n",
    "| [Part 4](#part4) | Matplotlib Basics | 8          | 25     |\n",
    "| [Bonus](#part5)  | Sci-kit Learn Basics | 3          | 5      |\n",
    "    \n",
    "### Academic Integrity\n",
    "\n",
    "This assignment must be completed individually.\n",
    "The standing policy of the Department is that all students involved in any academic integrity violation (e.g. plagiarism in any way, shape, or form) will receive an F grade for the course. The catalog describes plagiarism as “Copying or receiving material from any source and submitting that material as one’s own, without acknowledging and citing the particular debts to the source, or in any other manner representing the work of another as one’s own.”. Refer to the [Office of Academic Integrity](https://www.buffalo.edu/academic-integrity.html) for more details.\n",
    "\n",
    "    \n",
    "### Late Days Policy\n",
    "You can use up to 3 late days throughout the course toward any assignments. You do not have to inform the instructor, as the late submission will be tracked in UBlearns.\n",
    "\n",
    "### FAQ\n",
    ">What does 'raise Exception(\"Not implemented yet\")' mean?\n",
    "\n",
    "Here we define a custom exception to highlight that the task is not implemented yet. Once you implement your code, ensure to remove this part.\n",
    "\n",
    ">Can I add code beyond # BEGIN_YOUR_CODE parts.\n",
    "\n",
    "Yes, you can add helper functions. Add them in the separate cell with the comments, why you need it."
   ]
  },
  {
   "attachments": {},
   "cell_type": "markdown",
   "metadata": {},
   "source": [
    "## START COMPLETING YOUR ASSIGNMENT HERE"
   ]
  },
  {
   "attachments": {},
   "cell_type": "markdown",
   "metadata": {
    "id": "RiMGYifjvnmy"
   },
   "source": [
    "<a id='part1'></a>\n",
    "## Part 1 - Python & Numpy Basics [25 points]"
   ]
  },
  {
   "attachments": {},
   "cell_type": "markdown",
   "metadata": {
    "id": "2LUCpwD6vnm1"
   },
   "source": [
    "The first part of this assignment gives you practice with Python syntax. Follow the cells below for the instructions."
   ]
  },
  {
   "cell_type": "code",
   "execution_count": 3,
   "metadata": {
    "colab": {
     "base_uri": "https://localhost:8080/"
    },
    "id": "pYW7jZF2vnm2",
    "outputId": "353842fc-3622-46f3-a307-132850f3dab9"
   },
   "outputs": [
    {
     "name": "stdout",
     "output_type": "stream",
     "text": [
      "['arizona', 'new mexico', 'greece', 'japan', 'germany']\n"
     ]
    }
   ],
   "source": [
    "''' Adding elements to a list during the runtime\n",
    "Create an empty list and add five of your favourite holiday destinations to the list during the runtime using functions input() and append()\n",
    "Print out the list.\n",
    "\n",
    "'''\n",
    "\n",
    "# BEGIN_YOUR_CODE\n",
    "vacation = []\n",
    "\n",
    "for i in range(0, 5):\n",
    "    ans = str(input())\n",
    "    vacation.append(ans)\n",
    "\n",
    "print(vacation)\n",
    "# END_YOUR_CODE"
   ]
  },
  {
   "cell_type": "code",
   "execution_count": 16,
   "metadata": {},
   "outputs": [
    {
     "ename": "TypeError",
     "evalue": "must be str, not re.Match",
     "output_type": "error",
     "traceback": [
      "\u001b[1;31m---------------------------------------------------------------------------\u001b[0m",
      "\u001b[1;31mTypeError\u001b[0m                                 Traceback (most recent call last)",
      "Cell \u001b[1;32mIn[16], line 11\u001b[0m\n\u001b[0;32m      8\u001b[0m \u001b[39mimport\u001b[39;00m \u001b[39mre\u001b[39;00m\n\u001b[0;32m     10\u001b[0m x \u001b[39m=\u001b[39m re\u001b[39m.\u001b[39msearch(\u001b[39m\"\u001b[39m\u001b[39mthe\u001b[39m\u001b[39m\"\u001b[39m, sentence)\n\u001b[1;32m---> 11\u001b[0m counting \u001b[39m=\u001b[39m sentence\u001b[39m.\u001b[39;49mcount(x)\n\u001b[0;32m     14\u001b[0m \u001b[39mprint\u001b[39m(counting)\n\u001b[0;32m     15\u001b[0m \u001b[39m# END_YOUR_CODE\u001b[39;00m\n",
      "\u001b[1;31mTypeError\u001b[0m: must be str, not re.Match"
     ]
    }
   ],
   "source": [
    "'''Write a program to find a total number of \"the\" in the sentence \"the theatrics of neither these nor those\" using regular expressions.\n",
    "  Return the total number of \"the\"\n",
    "'''\n",
    "\n",
    "sentence = \"the theatrics of neither these nor those\"\n",
    "\n",
    "# BEGIN_YOUR_CODE\n",
    "#/////////////////////////////////////////////////////////////////////////////////////////////////////////////////////////////////////////\n",
    "import re\n",
    "\n",
    "x = re.search(\"the\", sentence)\n",
    "counting = sentence.count(x)\n",
    "\n",
    "\n",
    "print(counting)\n",
    "# END_YOUR_CODE"
   ]
  },
  {
   "attachments": {},
   "cell_type": "markdown",
   "metadata": {},
   "source": []
  },
  {
   "cell_type": "code",
   "execution_count": 21,
   "metadata": {},
   "outputs": [
    {
     "name": "stdout",
     "output_type": "stream",
     "text": [
      "[1, 3, 5, 7, 11, 13]\n"
     ]
    }
   ],
   "source": [
    "''' Updating elements\n",
    "Given a string my_list, update the second element to '3' and fourth element to '7', so the output is as follows: [1, 3, 5, 7, 11, 13]\n",
    "'''\n",
    "\n",
    "my_list = [1, 'three', 5, 'seven', 11, 13]\n",
    "\n",
    "# BEGIN_YOUR_CODE\n",
    "for i in range (0, len(my_list)):\n",
    "    if (i == 1):\n",
    "        my_list[i] = 3\n",
    "    if (i == 3):\n",
    "        my_list[i] = 7\n",
    "print(my_list)    \n",
    "# END_YOUR_CODE"
   ]
  },
  {
   "cell_type": "code",
   "execution_count": 90,
   "metadata": {
    "colab": {
     "base_uri": "https://localhost:8080/"
    },
    "id": "eQ7SJvrLvnm5",
    "outputId": "826dcd4e-03ea-4491-fa66-4bbd4123e4ba"
   },
   "outputs": [
    {
     "name": "stdout",
     "output_type": "stream",
     "text": [
      "['The Matrix Resurrections', 'The Matrix Revolutions', 'The Matrix Reloaded', 'The Matrix']\n"
     ]
    }
   ],
   "source": [
    "''' Reversing\n",
    "Reverse the order of elements in a list given below, so the output is as follows: ['The Matrix Resurrections', 'The Matrix Revolutions', 'The Matrix Reloaded', 'The Matrix']\n",
    "'''\n",
    "\n",
    "list1 = [\"The Matrix\", \"The Matrix Reloaded\", \"The Matrix Revolutions\", \"The Matrix Resurrections\"]\n",
    "\n",
    "# BEGIN_YOUR_CODE\n",
    "print(list1[::-1])\n",
    "# END_YOUR_CODE"
   ]
  },
  {
   "cell_type": "code",
   "execution_count": 131,
   "metadata": {
    "colab": {
     "base_uri": "https://localhost:8080/"
    },
    "id": "G472Jj3gvnm6",
    "outputId": "4c979e16-2581-4332-8c33-813f04f45352"
   },
   "outputs": [
    {
     "name": "stdout",
     "output_type": "stream",
     "text": [
      "1\n",
      "2 4\n",
      "3 6 9\n",
      "4 8 12 16\n",
      "5 10 15 20 25\n",
      "6 12 18 24 30 36\n"
     ]
    }
   ],
   "source": [
    "''' Pattern\n",
    "Write a function that will print the following pattern:\n",
    "1\n",
    "2 4\n",
    "3 6 9\n",
    "4 8 12 16\n",
    "5 10 15 20 25\n",
    "6 12 18 24 30 36\n",
    "\n",
    "Only submissions with a written function that will encode this pattern will be considered for evaluation\n",
    "'''\n",
    "\n",
    "# BEGIN_YOUR_CODE\n",
    "nums = 0\n",
    "\n",
    "for nums in range(1, 7):\n",
    "    list_of_nums = []\n",
    "    for i in range(1, nums + 1):\n",
    "        list_of_nums.append(str(nums * i))\n",
    "    print(\" \".join(list_of_nums))\n",
    "\n",
    "# END_YOUR_CODE"
   ]
  },
  {
   "cell_type": "code",
   "execution_count": 134,
   "metadata": {
    "colab": {
     "base_uri": "https://localhost:8080/"
    },
    "id": "vsIKrnuFvnm7",
    "outputId": "1aac4459-3c65-4312-bbc3-698b616f8bf5"
   },
   "outputs": [
    {
     "name": "stdout",
     "output_type": "stream",
     "text": [
      "[(1, 'Yann LeCun'), (2, 'Yoshua Bengio'), (3, 'Geoffrey Hinton'), (4, 'Fei-Fei Li'), (5, 'Andrew Ng')]\n"
     ]
    }
   ],
   "source": [
    "'''Numbering a list\n",
    "Print a numbered list of the famous AI researchers using \"enumerate()\" function\n",
    "'''\n",
    "\n",
    "researchers = ['Yann LeCun', 'Yoshua Bengio', 'Geoffrey Hinton', 'Fei-Fei Li', 'Andrew Ng']\n",
    "\n",
    "# BEGIN_YOUR_CODE\n",
    "print(list(enumerate(researchers, start = 1)))\n",
    "# END_YOUR_CODE"
   ]
  },
  {
   "cell_type": "code",
   "execution_count": 135,
   "metadata": {
    "colab": {
     "base_uri": "https://localhost:8080/"
    },
    "id": "Izsh0n6Hvnm8",
    "outputId": "db845742-d150-411b-bdbb-6cbc5f461fd6"
   },
   "outputs": [
    {
     "name": "stdout",
     "output_type": "stream",
     "text": [
      "[('Yann LeCun', 'Facebook'), ('Yoshua Bengio', 'Université de Montréal'), ('Geoffrey Hinton', 'University of Toronto'), ('Fei-Fei Li', 'Stanford University'), ('Andrew Ng', 'Landing AI')]\n"
     ]
    }
   ],
   "source": [
    "'''Combining lists\n",
    "Combine two lists given below using zip() fucntion and print out the result\n",
    "'''\n",
    "\n",
    "researchers = ['Yann LeCun', 'Yoshua Bengio', 'Geoffrey Hinton', 'Fei-Fei Li', 'Andrew Ng']\n",
    "work = ['Facebook', 'Université de Montréal', 'University of Toronto', 'Stanford University', 'Landing AI']\n",
    "\n",
    "# BEGIN_YOUR_CODE\n",
    "print(list(zip(researchers, work)))\n",
    "# END_YOUR_CODE"
   ]
  },
  {
   "cell_type": "code",
   "execution_count": 167,
   "metadata": {},
   "outputs": [
    {
     "name": "stdout",
     "output_type": "stream",
     "text": [
      "[1, 4, 27, 16, 125, 36, 343, 64, 729, 100, 1331, 144]\n"
     ]
    }
   ],
   "source": [
    "'''Print squares of even numbers and cubes of odd numbers for numbers from 1 till 12.\n",
    "So the output comes in the form as follows: [1, 4, 27, 16, 125, 36, ...., 144]\n",
    "'''\n",
    "\n",
    "# BEGIN_YOUR_CODE\n",
    "list_of_nums = [1]\n",
    "\n",
    "for i in range(2, 13):\n",
    "    if (i % 2 == 0):\n",
    "       new_num = i * i\n",
    "       list_of_nums.append(new_num) \n",
    "    elif (i % 2 != 0):\n",
    "        new_num2 = i * i * i\n",
    "        list_of_nums.append(new_num2) \n",
    "\n",
    "i += 1\n",
    "    \n",
    "print(list_of_nums)\n",
    "\n",
    "# END_YOUR_CODE"
   ]
  },
  {
   "cell_type": "code",
   "execution_count": 7,
   "metadata": {
    "id": "tM242AlVvnm9"
   },
   "outputs": [],
   "source": [
    "''' Sum function\n",
    "Modify the function below to return a sum of a and b\n",
    "'''\n",
    "\n",
    "def add(a: int, b: int) -> int:\n",
    "   \n",
    "    # BEGIN_YOUR_CODE\n",
    "    #/////////////////////////////////////////////////////////////////////////////////////////////////////////////////////////////////////////\n",
    "    return a + b\n",
    "\n",
    "#print(add(1, 2)) used for test purposes\n",
    "\n",
    "    # END_YOUR_CODE"
   ]
  },
  {
   "attachments": {},
   "cell_type": "markdown",
   "metadata": {
    "id": "o4HwFdtlvnm_"
   },
   "source": [
    "We defined ```add_test``` to test your ```add``` function. For this function we ```import random``` library. This is a very commonly used package that helps to generate random values. For example:\n",
    "\n",
    "``` python\n",
    "random.randint(0, 100) #Returns any random integer from 0 to 100\n",
    "```"
   ]
  },
  {
   "cell_type": "code",
   "execution_count": 2,
   "metadata": {
    "id": "TfVs9QUIvnnA"
   },
   "outputs": [],
   "source": [
    "import random\n",
    "\n",
    "def add_test():\n",
    "    a = random.randint(0, 9)\n",
    "    b = random.randint(0, 9)\n",
    "    result = add(a, b)\n",
    "\n",
    "    return('Value of a is {0}, value of b is {1}, and their sum is {2}.'.format(a, b,result))"
   ]
  },
  {
   "cell_type": "code",
   "execution_count": 9,
   "metadata": {
    "colab": {
     "base_uri": "https://localhost:8080/"
    },
    "id": "cOLrlf2GvnnB",
    "outputId": "a02426b5-11ff-46f3-daa9-8026dd110f2d"
   },
   "outputs": [
    {
     "name": "stdout",
     "output_type": "stream",
     "text": [
      "Value of a is 5, value of b is 6, and their sum is 11.\n"
     ]
    }
   ],
   "source": [
    "# Here we call our function 'add_test' to test your add function with random values\n",
    "if __name__ == '__main__':\n",
    "    print(add_test())"
   ]
  },
  {
   "attachments": {},
   "cell_type": "markdown",
   "metadata": {
    "id": "12yDhDMxvnnB"
   },
   "source": [
    "<a id='part2'></a>\n",
    "#### Numpy Basics "
   ]
  },
  {
   "attachments": {},
   "cell_type": "markdown",
   "metadata": {
    "id": "-JmI82NyvnnC"
   },
   "source": [
    "In this section we will explore one of the most commonly used package - Numpy. You can refer to the [Official NumPy Guide](https://numpy.org/doc/stable/)."
   ]
  },
  {
   "cell_type": "code",
   "execution_count": 10,
   "metadata": {
    "id": "CstiC-8CvnnC"
   },
   "outputs": [
    {
     "ename": "ModuleNotFoundError",
     "evalue": "No module named 'numpy'",
     "output_type": "error",
     "traceback": [
      "\u001b[1;31m---------------------------------------------------------------------------\u001b[0m",
      "\u001b[1;31mModuleNotFoundError\u001b[0m                       Traceback (most recent call last)",
      "Cell \u001b[1;32mIn[10], line 5\u001b[0m\n\u001b[0;32m      1\u001b[0m \u001b[39m'''Import the numpy package\u001b[39;00m\n\u001b[0;32m      2\u001b[0m \u001b[39m'''\u001b[39;00m\n\u001b[0;32m      4\u001b[0m \u001b[39m# BEGIN_YOUR_CODE\u001b[39;00m\n\u001b[1;32m----> 5\u001b[0m \u001b[39mimport\u001b[39;00m \u001b[39mnumpy\u001b[39;00m \u001b[39mas\u001b[39;00m \u001b[39mnp\u001b[39;00m\n\u001b[0;32m      7\u001b[0m num \u001b[39m=\u001b[39m np\u001b[39m.\u001b[39msqrt(\u001b[39m5\u001b[39m)\n\u001b[0;32m      9\u001b[0m \u001b[39mprint\u001b[39m(num)\n",
      "\u001b[1;31mModuleNotFoundError\u001b[0m: No module named 'numpy'"
     ]
    }
   ],
   "source": [
    "'''Import the numpy package\n",
    "'''\n",
    "\n",
    "# BEGIN_YOUR_CODE\n",
    "import numpy as np\n",
    "\n",
    "num = np.sqrt(5)\n",
    "\n",
    "print(num)\n",
    "# END_YOUR_CODE"
   ]
  },
  {
   "cell_type": "code",
   "execution_count": null,
   "metadata": {
    "colab": {
     "base_uri": "https://localhost:8080/"
    },
    "id": "2Cdaj9aTvnnE",
    "outputId": "2c7e7f65-9309-40bb-97db-c3372c80f247"
   },
   "outputs": [],
   "source": [
    "''' Random integers\n",
    "Create an array of random integers from 0 to 80 with the length 10 using numpy random generator\n",
    "'''\n",
    "\n",
    "# BEGIN_YOUR_CODE\n",
    "\n",
    "# END_YOUR_CODE"
   ]
  },
  {
   "cell_type": "code",
   "execution_count": null,
   "metadata": {
    "colab": {
     "base_uri": "https://localhost:8080/"
    },
    "id": "D_NEdSyVvnnF",
    "outputId": "5fcabe8d-b205-43a1-8300-43d9f0c0911e"
   },
   "outputs": [],
   "source": [
    "''' Slicing\n",
    "Slice the above array and extract the first 2 elements, the last two elements, and all elements that are left in the middle.\n",
    "'''\n",
    "\n",
    "# BEGIN_YOUR_CODE\n",
    "first_two = \n",
    "last_two = \n",
    "middle = \n",
    "# END_YOUR_CODE\n",
    "\n",
    "print('The first 2 elements are {0} \\nThe last two elements are {1} \\nElements in the middle are {2}.'.format(first_two, last_two, middle))"
   ]
  },
  {
   "cell_type": "code",
   "execution_count": null,
   "metadata": {},
   "outputs": [],
   "source": [
    "'''Split an array\n",
    "For the above list 'array' split the list into 5 equal parts  and print it in the form\n",
    "[array([1,2]), array([3,4]), array([5,6]), array([7,8]), array([9,10])]\n",
    "\n",
    "'''\n",
    "\n",
    "# BEGIN_YOUR_CODE\n",
    "\n",
    "# END_YOUR_CODE"
   ]
  },
  {
   "cell_type": "code",
   "execution_count": null,
   "metadata": {},
   "outputs": [],
   "source": [
    "'''Generate two arrays of size 10 (integers randomly selected between 1 and 100). \n",
    "Print unique elements of array1 and common elements of both arrays separately\n",
    "'''\n",
    "\n",
    "# BEGIN_YOUR_CODE\n",
    "array1 = \n",
    "array2 = \n",
    "unique_elements_array1 = \n",
    "common_elements_array1_array2 = \n",
    "# END_YOUR_CODE"
   ]
  },
  {
   "cell_type": "code",
   "execution_count": null,
   "metadata": {
    "colab": {
     "base_uri": "https://localhost:8080/"
    },
    "id": "x39Fry3OvnnF",
    "outputId": "e84ec16d-d351-4405-d0e5-e84d5477aefb"
   },
   "outputs": [],
   "source": [
    "'''Changing dimensions\n",
    "Convert your 1D array defined above to a 2D matrix and print its shape. The final output dimension should be 5x2.\n",
    "'''\n",
    "\n",
    "# BEGIN_YOUR_CODE\n",
    "\n",
    "# END_YOUR_CODE"
   ]
  },
  {
   "cell_type": "code",
   "execution_count": null,
   "metadata": {
    "colab": {
     "base_uri": "https://localhost:8080/"
    },
    "id": "GTPk6XwivnnG",
    "outputId": "c5273563-fcb2-4bda-8067-341aff65524a"
   },
   "outputs": [],
   "source": [
    "'''Changing dimensions\n",
    "Convert a matrix below to 1D array and print its dimension\n",
    "'''\n",
    "\n",
    "A = np.array([[1,2], [3,4], [5,6]])\n",
    "\n",
    "# BEGIN_YOUR_CODE\n",
    "\n",
    "# END_YOUR_CODE"
   ]
  },
  {
   "cell_type": "code",
   "execution_count": null,
   "metadata": {
    "colab": {
     "base_uri": "https://localhost:8080/"
    },
    "id": "ALyMwuojvnnM",
    "outputId": "8e914965-f014-479a-843c-1407a63dd7f0"
   },
   "outputs": [],
   "source": [
    "''' Matrices\n",
    "Create two matrices A and B of size 5X6 and 6X5 respectively with random float values from 0 to 1, and perform the dot product on them\n",
    "'''\n",
    "\n",
    "# BEGIN_YOUR_CODE\n",
    "A = \n",
    "B = \n",
    "dot_product = \n",
    "# END_YOUR_CODE\n",
    "\n",
    "print('\\nMatrix A is \\n{0} \\nMatrix B is \\n{1}, \\nTheir product is \\n{2}'.format(A, B, dot_product))"
   ]
  },
  {
   "cell_type": "code",
   "execution_count": null,
   "metadata": {
    "colab": {
     "base_uri": "https://localhost:8080/"
    },
    "id": "cf2kSBLXvnnN",
    "outputId": "ed32eeca-dac9-4632-e946-149e1ad60923"
   },
   "outputs": [],
   "source": [
    "''' Maximum value\n",
    "Return the maximum value present in each row of Matrix A created in the previous question. \n",
    "Result should come in the form: [row1_max row2_max row3_max row4_max row5_max]\n",
    "'''\n",
    "\n",
    "# BEGIN_YOUR_CODE\n",
    "\n",
    "# END_YOUR_CODE"
   ]
  },
  {
   "cell_type": "code",
   "execution_count": null,
   "metadata": {
    "colab": {
     "base_uri": "https://localhost:8080/"
    },
    "id": "khuCG55GvnnO",
    "outputId": "37cc6fd7-43fa-460b-cf3a-56d2ac2001e9"
   },
   "outputs": [],
   "source": [
    "''' Multiply the Matrix A from previous question with a scalar 3\n",
    "'''\n",
    "\n",
    "# BEGIN_YOUR_CODE\n",
    "\n",
    "# END_YOUR_CODE"
   ]
  },
  {
   "cell_type": "code",
   "execution_count": null,
   "metadata": {
    "colab": {
     "base_uri": "https://localhost:8080/"
    },
    "id": "KVFM3ERnvnnP",
    "outputId": "e1ea4298-aada-4028-9e86-66f2148d022d"
   },
   "outputs": [],
   "source": [
    "''' Element-wise multiplication\n",
    "Define two matrices A and B 2x4 with random integer values from 0 to 9. Perform element-wise multiplication of Matrices A and B\n",
    "''' \n",
    "\n",
    "# BEGIN_YOUR_CODE\n",
    "A = \n",
    "B = \n",
    "multiplicaiton = \n",
    "# END_YOUR_CODE\n",
    "\n",
    "print('\\nMatrix A is \\n{0} \\nMatrix B is \\n{1}, \\nTheir element-wise multiplication is \\n{2}'.format(A, B, multiplicaiton))"
   ]
  },
  {
   "attachments": {},
   "cell_type": "markdown",
   "metadata": {
    "id": "uiyFNoJivnnQ"
   },
   "source": [
    "<a id='part3'></a>\n",
    "## Part 2 - Algorithms [25 points]"
   ]
  },
  {
   "attachments": {},
   "cell_type": "markdown",
   "metadata": {
    "id": "bE9PC_sEvnnQ"
   },
   "source": [
    "### Euclidian Distance\n",
    "\n",
    "Let point $p$ have Cartesian coordinates $(p_1,p_2)$ and let point $q$ have coordinates $(q_1,q_2)$. Then the distance between $p$ and $q$ is given by:\n",
    "    $d(p,q) = \\sqrt{(q_1-p_1)^2 + (q_2-p_2)^2}$.</math>"
   ]
  },
  {
   "cell_type": "code",
   "execution_count": null,
   "metadata": {
    "id": "eWfSpbVqvnnR"
   },
   "outputs": [],
   "source": [
    "''' Euclidean distance\n",
    "Using numpy library return the Euclidean distance between two locations, where the locations are pairs of numbers (e.g., (3, 5)) '''\n",
    "\n",
    "def euclidean_distance(loc1: int, loc2: int) -> float:\n",
    "\n",
    "    # BEGIN_YOUR_CODE\n",
    "    raise Exception(\"Not implemented yet\")\n",
    "    \n",
    "    # END_YOUR_CODE"
   ]
  },
  {
   "cell_type": "code",
   "execution_count": null,
   "metadata": {
    "id": "aKXPrvGBvnnR"
   },
   "outputs": [],
   "source": [
    "def euclidean_distance_test():\n",
    "    random.seed(72)\n",
    "    for _ in range(10):\n",
    "        x1 = random.randint(0, 10)\n",
    "        x2 = random.randint(0, 10)\n",
    "        y1 = random.randint(0, 10)\n",
    "        y2 = random.randint(0, 10)\n",
    "        dist = euclidean_distance((x1, x2), (y1, y2))\n",
    "    return('Loc1 is ({0}, {1}), loc2 is ({2}, {3}). Euclidian disctance is {4}.'.format(x1, x2, y1, y2, dist))"
   ]
  },
  {
   "cell_type": "code",
   "execution_count": null,
   "metadata": {
    "colab": {
     "base_uri": "https://localhost:8080/"
    },
    "id": "yI3g4R1hvnnR",
    "outputId": "3cc7c267-1e95-4d8c-a9b4-ee112feb311b"
   },
   "outputs": [],
   "source": [
    "if __name__ == '__main__':\n",
    "    print(euclidean_distance_test())"
   ]
  },
  {
   "attachments": {},
   "cell_type": "markdown",
   "metadata": {
    "id": "lTuFruDrvnnR"
   },
   "source": [
    "### String Operations"
   ]
  },
  {
   "cell_type": "code",
   "execution_count": null,
   "metadata": {
    "id": "AGJHIeXkvnnS"
   },
   "outputs": [],
   "source": [
    "''' Alphabetically first word\n",
    "Given a string, convert it to lowercase, sort out all words in the alphabetical order and return the word that comes first.\n",
    "If the input text is an empty string, return an empty string or throw an error.  '''\n",
    "\n",
    "def first_word(text: str) -> str:\n",
    "    \n",
    "    # BEGIN_YOUR_CODE\n",
    "    raise Exception(\"Not implemented yet\")\n",
    "    \n",
    "    # END_YOUR_CODE"
   ]
  },
  {
   "cell_type": "code",
   "execution_count": null,
   "metadata": {
    "id": "Suevhw9TvnnS"
   },
   "outputs": [],
   "source": [
    "def first_word_test():\n",
    "    result0 = first_word('WelCome tO Ub')\n",
    "    result1 = first_word('CSE474-574 IntRo to ML cLasS')\n",
    "    result2 = first_word('SequenCes of DeCiSions')\n",
    "    result3 = first_word('Wolf, Panther, Leopard, Dog, Cat')\n",
    "    return result0, result1, result2, result3"
   ]
  },
  {
   "cell_type": "code",
   "execution_count": null,
   "metadata": {
    "colab": {
     "base_uri": "https://localhost:8080/"
    },
    "id": "DfSoFXLrvnnT",
    "outputId": "3d6d98f7-6ba5-41da-f3f1-2bfd7f048955"
   },
   "outputs": [],
   "source": [
    "if __name__ == '__main__':\n",
    "    print(first_word_test())"
   ]
  },
  {
   "attachments": {},
   "cell_type": "markdown",
   "metadata": {
    "id": "zW6tTqawDOBv"
   },
   "source": [
    "## Load from Drive*\n",
    "\n",
    "*If you are using Goolge Colab, uncomment the following piece of code and verify the file using the command, if you can see your file ```penguins.csv``` you are good to go."
   ]
  },
  {
   "cell_type": "code",
   "execution_count": null,
   "metadata": {},
   "outputs": [],
   "source": [
    "# !pwd\n",
    "# !ls"
   ]
  },
  {
   "cell_type": "code",
   "execution_count": null,
   "metadata": {
    "id": "nV7Jv5SPDGsy"
   },
   "outputs": [],
   "source": [
    "#from google.colab import drive\n",
    "#drive.mount('/content/drive')\n",
    "#%cd ..\n",
    "#%cd /content/drive/MyDrive"
   ]
  },
  {
   "attachments": {},
   "cell_type": "markdown",
   "metadata": {
    "id": "zGMa8NVpvnnU"
   },
   "source": [
    "<a id='part4'></a>\n",
    "##  Part 3 - Pandas Basics [25 points]\n",
    "\n",
    "Some important resources:\n",
    "\n",
    "- [A Pandas guide](https://pandasguide.readthedocs.io/en/latest/) covers fundamental information about the package\n",
    "\n",
    "- [Pandas Cheat Sheet](https://www.datacamp.com/community/blog/python-pandas-cheat-sheet)\n",
    "\n",
    "### Penguin dataset\n",
    "In this section we will explore with you Palmer Archipelago (Antarctica) penguin dataset. It contains three penguin species and includes measurements of bill length, bill depth, flipper length and body mass. Overall, we are provided with 344 data samples.\n",
    "\n",
    "The dataset consists of 7 columns:\n",
    "- species: penguin species (Chinstrap, Adélie, or Gentoo)\n",
    "- culmen_length_mm: culmen length (mm)\n",
    "- culmen_depth_mm: culmen depth (mm)\n",
    "- flipper_length_mm: flipper length (mm)\n",
    "- body_mass_g: body mass (g)\n",
    "- island: island name (Dream, Torgersen, or Biscoe) in the Palmer Archipelago (Antarctica)\n",
    "- sex: penguin sex (female, male)\n",
    "\n",
    "#### What are culmen length & depth?\n",
    "The culmen is \"the upper ridge of a bird's beak\"\n",
    "\n",
    "#### What are flippers?\n",
    "Penguins wings are called flippers. They are flat, thin, and broad with a long, tapered shape and a blunt, rounded tip."
   ]
  },
  {
   "cell_type": "code",
   "execution_count": null,
   "metadata": {
    "id": "-JA6l-hpvnnU"
   },
   "outputs": [],
   "source": [
    "'''Install and import pandas library\n",
    "'''\n",
    "\n",
    "# BEGIN_YOUR_CODE\n",
    "\n",
    "# END_YOUR_CODE"
   ]
  },
  {
   "cell_type": "code",
   "execution_count": null,
   "metadata": {
    "colab": {
     "base_uri": "https://localhost:8080/",
     "height": 610
    },
    "id": "vNYL_RNyvnnV",
    "outputId": "dc638bb0-e611-4d0b-8d0b-03dc0d8e0906"
   },
   "outputs": [],
   "source": [
    "'''Read given 'DataFile' and extract into Dataframe\n",
    "'''\n",
    "\n",
    "# BEGIN_YOUR_CODE\n",
    "\n",
    "# END_YOUR_CODE"
   ]
  },
  {
   "cell_type": "code",
   "execution_count": null,
   "metadata": {
    "colab": {
     "base_uri": "https://localhost:8080/",
     "height": 312
    },
    "id": "nQhbLF7CvnnV",
    "outputId": "b2760574-8b6d-445d-cfe2-429e33b38825"
   },
   "outputs": [],
   "source": [
    "'''Provide the main statistics about the entries of the dataset (mean, std, etc.)\n",
    "'''\n",
    "\n",
    "# BEGIN_YOUR_CODE\n",
    "\n",
    "# END_YOUR_CODE"
   ]
  },
  {
   "cell_type": "code",
   "execution_count": null,
   "metadata": {
    "colab": {
     "base_uri": "https://localhost:8080/"
    },
    "id": "JnuZGhGwvnnW",
    "outputId": "632299d2-4913-40af-95f4-82ba06f9a477"
   },
   "outputs": [],
   "source": [
    "''' Print shape of the dataset '''\n",
    "\n",
    "# BEGIN_YOUR_CODE\n",
    "\n",
    "# END_YOUR_CODE"
   ]
  },
  {
   "cell_type": "code",
   "execution_count": null,
   "metadata": {
    "colab": {
     "base_uri": "https://localhost:8080/"
    },
    "id": "nFWD5zl8vnne",
    "outputId": "6e1ba9b2-534f-4273-d015-b08128a3b9fe"
   },
   "outputs": [],
   "source": [
    "''' Return all the columns names'''\n",
    "\n",
    "# BEGIN_YOUR_CODE\n",
    "\n",
    "# END_YOUR_CODE"
   ]
  },
  {
   "cell_type": "code",
   "execution_count": null,
   "metadata": {
    "colab": {
     "base_uri": "https://localhost:8080/"
    },
    "id": "6-1Dj0sGvnng",
    "outputId": "5fd43650-6e73-45a2-9161-77684330f89f"
   },
   "outputs": [],
   "source": [
    "''' Print a list of penguin species '''\n",
    "\n",
    "# BEGIN_YOUR_CODE\n",
    "\n",
    "# END_YOUR_CODE"
   ]
  },
  {
   "cell_type": "code",
   "execution_count": null,
   "metadata": {},
   "outputs": [],
   "source": [
    "'''Print the first 10 rows of the dataset'''\n",
    "\n",
    "# BEGIN_YOUR_CODE\n",
    "\n",
    "# END_YOUR_CODE"
   ]
  },
  {
   "attachments": {},
   "cell_type": "markdown",
   "metadata": {
    "id": "YNq5ppEGvnnh"
   },
   "source": [
    "<a id='part5'></a>\n",
    "## Part 4 - Matplotlib Basics [25 points]"
   ]
  },
  {
   "attachments": {},
   "cell_type": "markdown",
   "metadata": {
    "id": "MyidlhZlIPa2"
   },
   "source": [
    "Heatmaps are a useful plot tool which help us visualize the data density or distribution. Refer the below documentation for more details on heatmap.\n",
    "\n",
    "[Matplotlib tutorial](https://machinelearningknowledge.ai/matplotlib-heatmap-complete-tutorial-for-beginners/)\n",
    "\n",
    "**Note:** You can only use matplotlib library for the following tasks"
   ]
  },
  {
   "cell_type": "code",
   "execution_count": null,
   "metadata": {
    "id": "bfFqEdGEvnnh"
   },
   "outputs": [],
   "source": [
    "''' Install and import matplotlib library\n",
    "'''\n",
    "\n",
    "# BEGIN_YOUR_CODE\n",
    "\n",
    "# END_YOUR_CODE"
   ]
  },
  {
   "cell_type": "code",
   "execution_count": null,
   "metadata": {
    "colab": {
     "base_uri": "https://localhost:8080/",
     "height": 282
    },
    "id": "25-jR3OHstb_",
    "outputId": "39eaa5da-3359-4016-9202-41a575d92e37"
   },
   "outputs": [],
   "source": [
    "''' Heatmap\n",
    "Take any random numpy array of dimension 10x15 and plot a heatmap\n",
    "'''\n",
    "\n",
    "# BEGIN YOUR CODE\n",
    "\n",
    "# END YOUR CODE"
   ]
  },
  {
   "cell_type": "code",
   "execution_count": null,
   "metadata": {
    "colab": {
     "base_uri": "https://localhost:8080/",
     "height": 265
    },
    "id": "VD6WIdUU4-PA",
    "outputId": "26c87f7b-3c6d-4d3c-a218-6b34d1fe0f53"
   },
   "outputs": [],
   "source": [
    "'''For the given value x plot the function y = 1/x using list comprehension on y.\n",
    "You can check https://docs.python.org/3/tutorial/datastructures.html#list-comprehensions to learn how to use list comprehension\n",
    "'''\n",
    "\n",
    "x = range(1,25)\n",
    "\n",
    "# BEGIN YOUR CODE\n",
    "\n",
    "# END YOUR CODE"
   ]
  },
  {
   "cell_type": "code",
   "execution_count": null,
   "metadata": {
    "colab": {
     "base_uri": "https://localhost:8080/",
     "height": 268
    },
    "id": "GB4uqfd8K495",
    "outputId": "7b073e40-da0a-4654-ecc4-031252f8df69"
   },
   "outputs": [],
   "source": [
    "'''For the given value x plot the function y = x^2 using lambda function y.\n",
    "\n",
    "Lambda function is a small anonymous function which consist of a single expression, and is usually used when we need the function for a smaller duration\n",
    "https://realpython.com/python-lambda/\n",
    "'''\n",
    "\n",
    "x = range(25)\n",
    "\n",
    "# BEGIN YOUR CODE\n",
    "\n",
    "# END YOUR CODE\n"
   ]
  },
  {
   "cell_type": "code",
   "execution_count": null,
   "metadata": {},
   "outputs": [],
   "source": [
    "'''On one graph plot the following (Draw two lines on one graph):\n",
    "1) Plot the function y = x^2 using lambda function y (use your code from above)\n",
    "2) A scatter plot for y = x^3 using either list comprehension or lambda function for evaluating y\n",
    "'''\n",
    "\n",
    "x = range(25)\n",
    "\n",
    "# BEGIN YOUR CODE\n",
    "\n",
    "# END YOUR CODE"
   ]
  },
  {
   "cell_type": "code",
   "execution_count": null,
   "metadata": {
    "colab": {
     "base_uri": "https://localhost:8080/",
     "height": 265
    },
    "id": "AEbDCKYH7UfV",
    "outputId": "91484bff-8e4d-4901-e799-b38f48d5fadd"
   },
   "outputs": [],
   "source": [
    "'''Create subplots showing graphs of tan and cot side by side of each other\n",
    "the value of theta ranges from -70 to 70\n",
    "\n",
    "HINT: You might want to utilize np.linspace() or np.arrange() to create smooth curves\n",
    "'''\n",
    "\n",
    "import math\n",
    "\n",
    "# BEGIN YOUR CODE\n",
    "\n",
    "# END YOUR CODE"
   ]
  },
  {
   "cell_type": "code",
   "execution_count": null,
   "metadata": {},
   "outputs": [],
   "source": [
    "''' Penguin (\"penguin.csv\"): total number of penguins per Species\n",
    "Plot a graph which shows the total number of penguins per species\n",
    "'''\n",
    "\n",
    "# BEGIN YOUR CODE\n",
    "\n",
    "# END YOUR CODE"
   ]
  },
  {
   "cell_type": "code",
   "execution_count": null,
   "metadata": {
    "colab": {
     "base_uri": "https://localhost:8080/",
     "height": 264
    },
    "id": "yENY45pIs_S9",
    "outputId": "5c7a6231-46fa-4d86-8e8d-a5e1b09fd8bf"
   },
   "outputs": [],
   "source": [
    "''' Penguin (\"penguin.csv\"): total number of penguins between range of body mass\n",
    "Plot a graph which shows the total number of penguins having body_mass_g between 3200 and 4500\n",
    "'''\n",
    "\n",
    "# BEGIN YOUR CODE\n",
    "\n",
    "# END YOUR CODE"
   ]
  },
  {
   "attachments": {},
   "cell_type": "markdown",
   "metadata": {
    "id": "Oo6h1NH6R6Pq"
   },
   "source": [
    "#### Results analyzing\n",
    "\n",
    "Analyze the graph and answer the following two questions:\n",
    "\n",
    "**1) What is your inference from the above graph?**\n",
    "\n",
    "*YOUR ANSWER:*\n",
    "\n",
    "**2) Which species has the most number of penguins having body_mass_g between 3200 and 4500?**\n",
    "\n",
    "*YOUR ANSWER:*\n",
    "\n",
    "**3) Which is the most common species of penguins?**\n",
    "\n",
    "*YOUR ANSWER:*\n"
   ]
  },
  {
   "attachments": {},
   "cell_type": "markdown",
   "metadata": {
    "id": "qB6WA8H64cK5"
   },
   "source": [
    "# Bonus - Sckit-learn Basics [5 points]\n",
    "\n",
    "Sckit-learn is a commonly used data analysis library. It contains in-build unsupervised and supervised learning algorithms. Check more details here - https://scikit-learn.org/stable/"
   ]
  },
  {
   "cell_type": "code",
   "execution_count": null,
   "metadata": {},
   "outputs": [],
   "source": [
    "'''Install and import scikit-learn library\n",
    "'''\n",
    "\n",
    "# BEGIN_YOUR_CODE\n",
    "\n",
    "# END_YOUR_CODE"
   ]
  },
  {
   "cell_type": "code",
   "execution_count": null,
   "metadata": {},
   "outputs": [],
   "source": [
    "''' Prepare Penguins dataset for training\n",
    "    Define our X_data = all the columns, except 'Species'. You can use drop() function\n",
    "    Define Y_target = 'Species' column from the dataset\n",
    "    Using train_test_split function divide the dataset into training and testing as 80/20. \n",
    "'''\n",
    "\n",
    "# BEGIN_YOUR_CODE\n",
    "\n",
    "# END_YOUR_CODE"
   ]
  },
  {
   "cell_type": "code",
   "execution_count": null,
   "metadata": {},
   "outputs": [],
   "source": [
    "''' Fit the model\n",
    "    Create and fit a logistic regression model to predict the 'Species' of a penguin using all of the other features in the dataset.\n",
    "    You can use one hot encoding to encode categorical-based feature ('island' and 'sex').\n",
    "    You can read more about the inbuilt Logistic Regression model here - https://scikit-learn.org/stable/modules/generated/sklearn.linear_model.LogisticRegression.html\n",
    "    Return the accuracy_score of your prediction and parameter values\n",
    "'''\n",
    "\n",
    "# BEGIN_YOUR_CODE\n",
    "    \n",
    "# END_YOUR_CODE"
   ]
  },
  {
   "attachments": {},
   "cell_type": "markdown",
   "metadata": {
    "id": "toxZCPhevnni"
   },
   "source": [
    "## References Used\n",
    "\n",
    "**List below all the references you used to complete the assignment**"
   ]
  },
  {
   "attachments": {},
   "cell_type": "markdown",
   "metadata": {},
   "source": [
    "https://www.geeksforgeeks.org/python-get-a-list-as-input-from-user/#"
   ]
  },
  {
   "attachments": {},
   "cell_type": "markdown",
   "metadata": {},
   "source": [
    "https://www.w3schools.com/python/ref_string_split.asp"
   ]
  },
  {
   "attachments": {},
   "cell_type": "markdown",
   "metadata": {},
   "source": [
    "https://stackoverflow.com/questions/1712227/how-do-i-get-the-number-of-elements-in-a-list-length-of-a-list-in-python"
   ]
  },
  {
   "attachments": {},
   "cell_type": "markdown",
   "metadata": {},
   "source": [
    "https://docs.python.org/3/howto/regex.html"
   ]
  },
  {
   "attachments": {},
   "cell_type": "markdown",
   "metadata": {},
   "source": [
    "https://docs.python.org/3.11/library/stdtypes.html?highlight=list#list"
   ]
  },
  {
   "attachments": {},
   "cell_type": "markdown",
   "metadata": {},
   "source": [
    "https://stackoverflow.com/questions/11178061/print-list-without-brackets-in-a-single-row"
   ]
  },
  {
   "attachments": {},
   "cell_type": "markdown",
   "metadata": {},
   "source": [
    "https://docs.python.org/3.11/library/functions.html?highlight=enumerate#enumerate"
   ]
  },
  {
   "attachments": {},
   "cell_type": "markdown",
   "metadata": {},
   "source": [
    "https://docs.python.org/3.11/library/functions.html?highlight=zip#zip"
   ]
  },
  {
   "attachments": {},
   "cell_type": "markdown",
   "metadata": {},
   "source": [
    "https://docs.python.org/3.11/library/functions.html?highlight=modulo"
   ]
  },
  {
   "attachments": {},
   "cell_type": "markdown",
   "metadata": {},
   "source": [
    "https://stackoverflow.com/questions/14651025/how-to-determine-if-an-integer-is-even-or-odd"
   ]
  },
  {
   "attachments": {},
   "cell_type": "markdown",
   "metadata": {},
   "source": []
  },
  {
   "attachments": {},
   "cell_type": "markdown",
   "metadata": {},
   "source": []
  },
  {
   "attachments": {},
   "cell_type": "markdown",
   "metadata": {},
   "source": []
  }
 ],
 "metadata": {
  "celltoolbar": "Raw Cell Format",
  "colab": {
   "collapsed_sections": [
    "uiyFNoJivnnQ",
    "bE9PC_sEvnnQ",
    "lTuFruDrvnnR",
    "zGMa8NVpvnnU",
    "toxZCPhevnni"
   ],
   "name": "fall21_eas595_Assignmnet1[INTERNAL].ipynb",
   "provenance": []
  },
  "kernelspec": {
   "display_name": "Python 3 (ipykernel)",
   "language": "python",
   "name": "python3"
  },
  "language_info": {
   "codemirror_mode": {
    "name": "ipython",
    "version": 3
   },
   "file_extension": ".py",
   "mimetype": "text/x-python",
   "name": "python",
   "nbconvert_exporter": "python",
   "pygments_lexer": "ipython3",
   "version": "3.11.3"
  }
 },
 "nbformat": 4,
 "nbformat_minor": 4
}
