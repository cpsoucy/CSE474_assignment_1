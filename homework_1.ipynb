{
 "cells": [
  {
   "attachments": {},
   "cell_type": "markdown",
   "metadata": {
    "id": "KH1K6cXFvnmj"
   },
   "source": [
    "<div align=\"center\"> <h3><font color='#2cab9e'>CSE 474/574: Introduction to Machine Learning, Summer 2023 </font>\n",
    "<h1> Assignment 1 - Introduction to Python\n",
    "\n",
    "<h2><font color='red'>Due Date: </font> June 8, Thursday, 11:59pm ET</div>\n",
    "\n",
    "Welcome to your first CSE 574 assignment! The goal of this assignment is to sharpen your programming skills needed for this class. It is focused on familiarizing yourself with Python and main data science libraries that will be used for other assignments as well.\n",
    "\n",
    "There are a total of four parts with an additional bonus part. We will focus on basic Python functions, explore NumPy, Pandas and Matplotlib libraries and analyze the real-world dataset.\n",
    "\n",
    "If you are new to Python, check our [Python resources page](https://ubuffalo-my.sharepoint.com/:w:/g/personal/avereshc_buffalo_edu/ESoUg6v6aoJImaeWXy90SqMBiubxGGAkG7dhaNyhuBum_w?e=3Tlwbz).\n",
    "\n",
    "\n",
    "### Submission\n",
    "\n",
    "All the details you need for this assignment are located within this notebook. You are expected to follow every block and complete the task within the marks ``` # BEGIN_YOUR_CODE ``` and ```# END_YOUR_CODE```. Do not modify or edit code beyond these lines. You can add helper functions in the new cells, if needed. We recommend completing the task within this .ipynb notebook, if needed you can convert it and submit as .py script. Try to make your code as clean and simple as possible and be sure to write your answers between the begin answer and end answer comments.\n",
    "\n",
    "1. Submit at **UBLearns > Assignments**\n",
    "2. The code of your implementations should be written in Python\n",
    "3. All project files should be packed in a ZIP file named YOUR_FIRST_NAME_YOUR_LAST_NAME_assignment1.zip (e.g. nitin_kulkarni_assignment1.zip).\n",
    "4. Your Jupyter notebook should be saved with the results. If you are submitting python scripts, after extracting the ZIP file and executing command python main.py in the first level directory, all the generated results and plots you used in your report should appear printed out in a clear manner.  \n",
    "6. Include all the references that have been used to complete the assignment.\n",
    "\n",
    "### Final Submission <font color='red'>[Due Date: June 8]</font>\n",
    "Complete all parts of the assignment and submit the code (.ipynb with saved outputs) in the ZIP file named YOUR_FIRST_NAME_YOUR_LAST_NAME_assignment1.zip.\n",
    "\n",
    "**Assignment Outline**\n",
    "\n",
    "| Part             | Description | # of tasks | Points |\n",
    "|------------------| --- |------------|--------|\n",
    "| [Part 1](#part1) | Basics, Numpy Basics | 20         | 25     |\n",
    "| [Part 2](#part2) | Algorithms | 2          | 25     |\n",
    "| [Part 3](#part3) | Pandas Basics | 7          | 25     |\n",
    "| [Part 4](#part4) | Matplotlib Basics | 8          | 25     |\n",
    "| [Bonus](#part5)  | Sci-kit Learn Basics | 3          | 5      |\n",
    "    \n",
    "### Academic Integrity\n",
    "\n",
    "This assignment must be completed individually.\n",
    "The standing policy of the Department is that all students involved in any academic integrity violation (e.g. plagiarism in any way, shape, or form) will receive an F grade for the course. The catalog describes plagiarism as “Copying or receiving material from any source and submitting that material as one’s own, without acknowledging and citing the particular debts to the source, or in any other manner representing the work of another as one’s own.”. Refer to the [Office of Academic Integrity](https://www.buffalo.edu/academic-integrity.html) for more details.\n",
    "\n",
    "    \n",
    "### Late Days Policy\n",
    "You can use up to 3 late days throughout the course toward any assignments. You do not have to inform the instructor, as the late submission will be tracked in UBlearns.\n",
    "\n",
    "### FAQ\n",
    ">What does 'raise Exception(\"Not implemented yet\")' mean?\n",
    "\n",
    "Here we define a custom exception to highlight that the task is not implemented yet. Once you implement your code, ensure to remove this part.\n",
    "\n",
    ">Can I add code beyond # BEGIN_YOUR_CODE parts.\n",
    "\n",
    "Yes, you can add helper functions. Add them in the separate cell with the comments, why you need it."
   ]
  },
  {
   "attachments": {},
   "cell_type": "markdown",
   "metadata": {},
   "source": [
    "## START COMPLETING YOUR ASSIGNMENT HERE"
   ]
  },
  {
   "attachments": {},
   "cell_type": "markdown",
   "metadata": {
    "id": "RiMGYifjvnmy"
   },
   "source": [
    "<a id='part1'></a>\n",
    "## Part 1 - Python & Numpy Basics [25 points]"
   ]
  },
  {
   "attachments": {},
   "cell_type": "markdown",
   "metadata": {
    "id": "2LUCpwD6vnm1"
   },
   "source": [
    "The first part of this assignment gives you practice with Python syntax. Follow the cells below for the instructions."
   ]
  },
  {
   "cell_type": "code",
   "execution_count": 3,
   "metadata": {
    "colab": {
     "base_uri": "https://localhost:8080/"
    },
    "id": "pYW7jZF2vnm2",
    "outputId": "353842fc-3622-46f3-a307-132850f3dab9"
   },
   "outputs": [
    {
     "name": "stdout",
     "output_type": "stream",
     "text": [
      "['arizona', 'new mexico', 'greece', 'japan', 'germany']\n"
     ]
    }
   ],
   "source": [
    "''' Adding elements to a list during the runtime\n",
    "Create an empty list and add five of your favourite holiday destinations to the list during the runtime using functions input() and append()\n",
    "Print out the list.\n",
    "\n",
    "'''\n",
    "\n",
    "# BEGIN_YOUR_CODE\n",
    "vacation = []\n",
    "\n",
    "for i in range(0, 5):\n",
    "    ans = str(input())\n",
    "    vacation.append(ans)\n",
    "\n",
    "print(vacation)\n",
    "# END_YOUR_CODE"
   ]
  },
  {
   "cell_type": "code",
   "execution_count": 26,
   "metadata": {},
   "outputs": [
    {
     "name": "stdout",
     "output_type": "stream",
     "text": [
      "1\n"
     ]
    }
   ],
   "source": [
    "'''Write a program to find a total number of \"the\" in the sentence \"the theatrics of neither these nor those\" using regular expressions.\n",
    "  Return the total number of \"the\"\n",
    "'''\n",
    "\n",
    "sentence = \"the theatrics of neither these nor those\"\n",
    "\n",
    "# BEGIN_YOUR_CODE\n",
    "import re\n",
    "\n",
    "x = re.findall(\"the \", sentence)\n",
    "y = re.findall(\" the \", sentence)\n",
    "\n",
    "print(len(x + y))\n",
    "# END_YOUR_CODE"
   ]
  },
  {
   "attachments": {},
   "cell_type": "markdown",
   "metadata": {},
   "source": []
  },
  {
   "cell_type": "code",
   "execution_count": 21,
   "metadata": {},
   "outputs": [
    {
     "name": "stdout",
     "output_type": "stream",
     "text": [
      "[1, 3, 5, 7, 11, 13]\n"
     ]
    }
   ],
   "source": [
    "''' Updating elements\n",
    "Given a string my_list, update the second element to '3' and fourth element to '7', so the output is as follows: [1, 3, 5, 7, 11, 13]\n",
    "'''\n",
    "\n",
    "my_list = [1, 'three', 5, 'seven', 11, 13]\n",
    "\n",
    "# BEGIN_YOUR_CODE\n",
    "for i in range (0, len(my_list)):\n",
    "    if (i == 1):\n",
    "        my_list[i] = 3\n",
    "    if (i == 3):\n",
    "        my_list[i] = 7\n",
    "print(my_list)    \n",
    "# END_YOUR_CODE"
   ]
  },
  {
   "cell_type": "code",
   "execution_count": 90,
   "metadata": {
    "colab": {
     "base_uri": "https://localhost:8080/"
    },
    "id": "eQ7SJvrLvnm5",
    "outputId": "826dcd4e-03ea-4491-fa66-4bbd4123e4ba"
   },
   "outputs": [
    {
     "name": "stdout",
     "output_type": "stream",
     "text": [
      "['The Matrix Resurrections', 'The Matrix Revolutions', 'The Matrix Reloaded', 'The Matrix']\n"
     ]
    }
   ],
   "source": [
    "''' Reversing\n",
    "Reverse the order of elements in a list given below, so the output is as follows: ['The Matrix Resurrections', 'The Matrix Revolutions', 'The Matrix Reloaded', 'The Matrix']\n",
    "'''\n",
    "\n",
    "list1 = [\"The Matrix\", \"The Matrix Reloaded\", \"The Matrix Revolutions\", \"The Matrix Resurrections\"]\n",
    "\n",
    "# BEGIN_YOUR_CODE\n",
    "print(list1[::-1])\n",
    "# END_YOUR_CODE"
   ]
  },
  {
   "cell_type": "code",
   "execution_count": 68,
   "metadata": {
    "colab": {
     "base_uri": "https://localhost:8080/"
    },
    "id": "G472Jj3gvnm6",
    "outputId": "4c979e16-2581-4332-8c33-813f04f45352"
   },
   "outputs": [
    {
     "name": "stdout",
     "output_type": "stream",
     "text": [
      "1\n",
      "2 4\n",
      "3 6 9\n",
      "4 8 12 16\n",
      "5 10 15 20 25\n",
      "6 12 18 24 30 36\n"
     ]
    }
   ],
   "source": [
    "''' Pattern\n",
    "Write a function that will print the following pattern:\n",
    "1\n",
    "2 4\n",
    "3 6 9\n",
    "4 8 12 16\n",
    "5 10 15 20 25\n",
    "6 12 18 24 30 36\n",
    "\n",
    "Only submissions with a written function that will encode this pattern will be considered for evaluation\n",
    "'''\n",
    "\n",
    "# BEGIN_YOUR_CODE\n",
    "nums = 0\n",
    "\n",
    "for nums in range(1, 7):\n",
    "   list_of_nums = []\n",
    "   for i in range(1, nums + 1):\n",
    "       list_of_nums.append(str(nums * i))\n",
    "   print(\" \".join(list_of_nums))\n",
    "# END_YOUR_CODE"
   ]
  },
  {
   "cell_type": "code",
   "execution_count": 134,
   "metadata": {
    "colab": {
     "base_uri": "https://localhost:8080/"
    },
    "id": "vsIKrnuFvnm7",
    "outputId": "1aac4459-3c65-4312-bbc3-698b616f8bf5"
   },
   "outputs": [
    {
     "name": "stdout",
     "output_type": "stream",
     "text": [
      "[(1, 'Yann LeCun'), (2, 'Yoshua Bengio'), (3, 'Geoffrey Hinton'), (4, 'Fei-Fei Li'), (5, 'Andrew Ng')]\n"
     ]
    }
   ],
   "source": [
    "'''Numbering a list\n",
    "Print a numbered list of the famous AI researchers using \"enumerate()\" function\n",
    "'''\n",
    "\n",
    "researchers = ['Yann LeCun', 'Yoshua Bengio', 'Geoffrey Hinton', 'Fei-Fei Li', 'Andrew Ng']\n",
    "\n",
    "# BEGIN_YOUR_CODE\n",
    "print(list(enumerate(researchers, start = 1)))\n",
    "# END_YOUR_CODE"
   ]
  },
  {
   "cell_type": "code",
   "execution_count": 135,
   "metadata": {
    "colab": {
     "base_uri": "https://localhost:8080/"
    },
    "id": "Izsh0n6Hvnm8",
    "outputId": "db845742-d150-411b-bdbb-6cbc5f461fd6"
   },
   "outputs": [
    {
     "name": "stdout",
     "output_type": "stream",
     "text": [
      "[('Yann LeCun', 'Facebook'), ('Yoshua Bengio', 'Université de Montréal'), ('Geoffrey Hinton', 'University of Toronto'), ('Fei-Fei Li', 'Stanford University'), ('Andrew Ng', 'Landing AI')]\n"
     ]
    }
   ],
   "source": [
    "'''Combining lists\n",
    "Combine two lists given below using zip() fucntion and print out the result\n",
    "'''\n",
    "\n",
    "researchers = ['Yann LeCun', 'Yoshua Bengio', 'Geoffrey Hinton', 'Fei-Fei Li', 'Andrew Ng']\n",
    "work = ['Facebook', 'Université de Montréal', 'University of Toronto', 'Stanford University', 'Landing AI']\n",
    "\n",
    "# BEGIN_YOUR_CODE\n",
    "print(list(zip(researchers, work)))\n",
    "# END_YOUR_CODE"
   ]
  },
  {
   "cell_type": "code",
   "execution_count": 167,
   "metadata": {},
   "outputs": [
    {
     "name": "stdout",
     "output_type": "stream",
     "text": [
      "[1, 4, 27, 16, 125, 36, 343, 64, 729, 100, 1331, 144]\n"
     ]
    }
   ],
   "source": [
    "'''Print squares of even numbers and cubes of odd numbers for numbers from 1 till 12.\n",
    "So the output comes in the form as follows: [1, 4, 27, 16, 125, 36, ...., 144]\n",
    "'''\n",
    "\n",
    "# BEGIN_YOUR_CODE\n",
    "list_of_nums = [1]\n",
    "\n",
    "for i in range(2, 13):\n",
    "    if (i % 2 == 0):\n",
    "       new_num = i * i\n",
    "       list_of_nums.append(new_num) \n",
    "    elif (i % 2 != 0):\n",
    "        new_num2 = i * i * i\n",
    "        list_of_nums.append(new_num2) \n",
    "\n",
    "i += 1\n",
    "    \n",
    "print(list_of_nums)\n",
    "\n",
    "# END_YOUR_CODE"
   ]
  },
  {
   "cell_type": "code",
   "execution_count": 14,
   "metadata": {
    "id": "tM242AlVvnm9"
   },
   "outputs": [],
   "source": [
    "''' Sum function\n",
    "Modify the function below to return a sum of a and b\n",
    "'''\n",
    "\n",
    "def add(a: int, b: int) -> int:\n",
    "   \n",
    "    # BEGIN_YOUR_CODE\n",
    "    return a + b\n",
    "    # END_YOUR_CODE"
   ]
  },
  {
   "attachments": {},
   "cell_type": "markdown",
   "metadata": {
    "id": "o4HwFdtlvnm_"
   },
   "source": [
    "We defined ```add_test``` to test your ```add``` function. For this function we ```import random``` library. This is a very commonly used package that helps to generate random values. For example:\n",
    "\n",
    "``` python\n",
    "random.randint(0, 100) #Returns any random integer from 0 to 100\n",
    "```"
   ]
  },
  {
   "cell_type": "code",
   "execution_count": 15,
   "metadata": {
    "id": "TfVs9QUIvnnA"
   },
   "outputs": [],
   "source": [
    "import random\n",
    "\n",
    "def add_test():\n",
    "    a = random.randint(0, 9)\n",
    "    b = random.randint(0, 9)\n",
    "    result = add(a, b)\n",
    "\n",
    "    return('Value of a is {0}, value of b is {1}, and their sum is {2}.'.format(a, b,result))"
   ]
  },
  {
   "cell_type": "code",
   "execution_count": 16,
   "metadata": {
    "colab": {
     "base_uri": "https://localhost:8080/"
    },
    "id": "cOLrlf2GvnnB",
    "outputId": "a02426b5-11ff-46f3-daa9-8026dd110f2d"
   },
   "outputs": [
    {
     "name": "stdout",
     "output_type": "stream",
     "text": [
      "Value of a is 3, value of b is 4, and their sum is 7.\n"
     ]
    }
   ],
   "source": [
    "# Here we call our function 'add_test' to test your add function with random values\n",
    "if __name__ == '__main__':\n",
    "    print(add_test())"
   ]
  },
  {
   "attachments": {},
   "cell_type": "markdown",
   "metadata": {
    "id": "12yDhDMxvnnB"
   },
   "source": [
    "<a id='part2'></a>\n",
    "#### Numpy Basics "
   ]
  },
  {
   "attachments": {},
   "cell_type": "markdown",
   "metadata": {
    "id": "-JmI82NyvnnC"
   },
   "source": [
    "In this section we will explore one of the most commonly used package - Numpy. You can refer to the [Official NumPy Guide](https://numpy.org/doc/stable/)."
   ]
  },
  {
   "cell_type": "code",
   "execution_count": 1,
   "metadata": {
    "id": "CstiC-8CvnnC"
   },
   "outputs": [],
   "source": [
    "'''Import the numpy package\n",
    "'''\n",
    "\n",
    "# BEGIN_YOUR_CODE\n",
    "import numpy as np\n",
    "# END_YOUR_CODE"
   ]
  },
  {
   "cell_type": "code",
   "execution_count": 266,
   "metadata": {
    "colab": {
     "base_uri": "https://localhost:8080/"
    },
    "id": "2Cdaj9aTvnnE",
    "outputId": "2c7e7f65-9309-40bb-97db-c3372c80f247"
   },
   "outputs": [
    {
     "name": "stdout",
     "output_type": "stream",
     "text": [
      "[15, 24, 40, 55, 52, 50, 3, 55, 23, 22]\n"
     ]
    }
   ],
   "source": [
    "''' Random integers\n",
    "Create an array of random integers from 0 to 80 with the length 10 using numpy random generator\n",
    "'''\n",
    "\n",
    "# BEGIN_YOUR_CODE\n",
    "from numpy import random\n",
    "\n",
    "rand_list = []\n",
    "\n",
    "for i in range(0, 10):\n",
    "    i = random.randint(80)\n",
    "    rand_list.append(i)\n",
    "\n",
    "print(rand_list)\n",
    "# END_YOUR_CODE"
   ]
  },
  {
   "cell_type": "code",
   "execution_count": 111,
   "metadata": {
    "colab": {
     "base_uri": "https://localhost:8080/"
    },
    "id": "D_NEdSyVvnnF",
    "outputId": "5fcabe8d-b205-43a1-8300-43d9f0c0911e"
   },
   "outputs": [
    {
     "name": "stdout",
     "output_type": "stream",
     "text": [
      "The first 2 elements are [19, 46] \n",
      "The last two elements are [61, 35] \n",
      "Elements in the middle are [26, 15, 25, 23, 55, 64].\n"
     ]
    }
   ],
   "source": [
    "''' Slicing\n",
    "Slice the above array and extract the first 2 elements, the last two elements, and all elements that are left in the middle.\n",
    "'''\n",
    "\n",
    "# BEGIN_YOUR_CODE\n",
    "first_two = rand_list[0:2]\n",
    "last_two = rand_list[8:10]\n",
    "middle = rand_list[2:8]\n",
    "# END_YOUR_CODE\n",
    "\n",
    "print('The first 2 elements are {0} \\nThe last two elements are {1} \\nElements in the middle are {2}.'.format(first_two, last_two, middle))"
   ]
  },
  {
   "cell_type": "code",
   "execution_count": 116,
   "metadata": {},
   "outputs": [
    {
     "name": "stdout",
     "output_type": "stream",
     "text": [
      "[array([19, 46]), array([26, 15]), array([25, 23]), array([55, 64]), array([61, 35])]\n"
     ]
    }
   ],
   "source": [
    "'''Split an array\n",
    "For the above list 'array' split the list into 5 equal parts  and print it in the form\n",
    "[array([1,2]), array([3,4]), array([5,6]), array([7,8]), array([9,10])]\n",
    "\n",
    "'''\n",
    "\n",
    "# BEGIN_YOUR_CODE\n",
    "split_list = np.array_split(rand_list, 5)\n",
    "\n",
    "print(split_list)\n",
    "# END_YOUR_CODE"
   ]
  },
  {
   "cell_type": "code",
   "execution_count": 259,
   "metadata": {},
   "outputs": [
    {
     "name": "stdout",
     "output_type": "stream",
     "text": [
      "Array 1:  [21, 8, 44, 60, 23, 96, 66, 3, 84, 15]\n",
      "Array 2:  [70, 11, 84, 10, 90, 75, 26, 95, 9, 47]\n",
      "Common Elements of both arrays:  [84]\n",
      "Unique Elements of Array 1:  [21, 8, 44, 60, 23, 96, 66, 3, 15]\n"
     ]
    }
   ],
   "source": [
    "'''Generate two arrays of size 10 (integers randomly selected between 1 and 100). \n",
    "Print unique elements of array1 and common elements of both arrays separately\n",
    "'''\n",
    "\n",
    "# BEGIN_YOUR_CODE\n",
    "array1 = []\n",
    "array2 = []\n",
    "\n",
    "for i in range(0, 10):\n",
    "    rand = random.randint(1, 101)\n",
    "    rand_2 = random.randint(1, 101)\n",
    "    array1.append(rand)\n",
    "    array2.append(rand_2)    \n",
    "\n",
    "common_elements_array1_array2 = np.intersect1d(array1, array2)\n",
    "unique_elements_array1 = []\n",
    "\n",
    "for i in (array1):\n",
    "    if (len(common_elements_array1_array2) != 0):\n",
    "        if not np.isin(i, common_elements_array1_array2):\n",
    "            unique_elements_array1.append(i)\n",
    "    else:\n",
    "       unique_elements_array1 = array1[:]\n",
    "\n",
    "print(\"Array 1: \", array1)\n",
    "print(\"Array 2: \", array2)\n",
    "print(\"Common Elements of both arrays: \", common_elements_array1_array2)\n",
    "print(\"Unique Elements of Array 1: \", unique_elements_array1)\n",
    "# END_YOUR_CODE"
   ]
  },
  {
   "cell_type": "code",
   "execution_count": 281,
   "metadata": {
    "colab": {
     "base_uri": "https://localhost:8080/"
    },
    "id": "x39Fry3OvnnF",
    "outputId": "e84ec16d-d351-4405-d0e5-e84d5477aefb"
   },
   "outputs": [
    {
     "name": "stdout",
     "output_type": "stream",
     "text": [
      "[[15 24]\n",
      " [40 55]\n",
      " [52 50]\n",
      " [ 3 55]\n",
      " [23 22]]\n",
      "(5, 2)\n"
     ]
    }
   ],
   "source": [
    "'''Changing dimensions\n",
    "Convert your 1D array defined above to a 2D matrix and print its shape. The final output dimension should be 5x2.\n",
    "'''\n",
    "\n",
    "# BEGIN_YOUR_CODE\n",
    "rand_list = np.array(rand_list)\n",
    "re_list = np.matrix(rand_list)\n",
    "matrix = rand_list.reshape(5, 2)\n",
    "\n",
    "print(matrix)\n",
    "print(matrix.shape)\n",
    "# END_YOUR_CODE"
   ]
  },
  {
   "cell_type": "code",
   "execution_count": 282,
   "metadata": {
    "colab": {
     "base_uri": "https://localhost:8080/"
    },
    "id": "GTPk6XwivnnG",
    "outputId": "c5273563-fcb2-4bda-8067-341aff65524a"
   },
   "outputs": [
    {
     "name": "stdout",
     "output_type": "stream",
     "text": [
      "[1 2 3 4 5 6]\n",
      "(6,)\n"
     ]
    }
   ],
   "source": [
    "'''Changing dimensions\n",
    "Convert a matrix below to 1D array and print its dimension\n",
    "'''\n",
    "\n",
    "A = np.array([[1,2], [3,4], [5,6]])\n",
    "\n",
    "# BEGIN_YOUR_CODE\n",
    "re_A = np.ravel(A)\n",
    "\n",
    "print(re_A)\n",
    "print(re_A.shape)\n",
    "# END_YOUR_CODE"
   ]
  },
  {
   "cell_type": "code",
   "execution_count": 297,
   "metadata": {
    "colab": {
     "base_uri": "https://localhost:8080/"
    },
    "id": "ALyMwuojvnnM",
    "outputId": "8e914965-f014-479a-843c-1407a63dd7f0"
   },
   "outputs": [
    {
     "name": "stdout",
     "output_type": "stream",
     "text": [
      "\n",
      "Matrix A is \n",
      "[[0.88327969 0.1789906  0.96403739 0.62623822 0.21463004 0.02199125]\n",
      " [0.4222483  0.99530822 0.81912806 0.6692322  0.31193408 0.1539015 ]\n",
      " [0.29705832 0.40597064 0.58643171 0.8264917  0.22613433 0.5434618 ]\n",
      " [0.89563024 0.18959062 0.01163996 0.4040218  0.0414057  0.38797631]\n",
      " [0.67653232 0.67123298 0.18208134 0.62341727 0.95248783 0.86888579]] \n",
      "Matrix B is \n",
      "[[0.74423516 0.96818854 0.3809498  0.28984956 0.55584281]\n",
      " [0.97834835 0.46764663 0.19131164 0.11690816 0.76878461]\n",
      " [0.55169774 0.77021495 0.59705946 0.78539973 0.13757086]\n",
      " [0.99654254 0.66378422 0.68345317 0.23142964 0.38426605]\n",
      " [0.06050816 0.53447451 0.89501616 0.37989335 0.84691039]\n",
      " [0.28649026 0.77838948 0.25871541 0.6843423  0.36784184]], \n",
      "Their product is \n",
      "[[2.00770039 2.22892073 1.57210718 1.27561456 1.19169713]\n",
      " [2.46980548 2.23591507 1.61672921 1.26079425 1.69052431]\n",
      " [1.93480862 2.02163786 1.44883001 1.24324231 1.26691382]\n",
      " [1.37474866 1.55707588 0.797975   0.66564571 0.978218  ]\n",
      " [2.18847513 2.70837903 1.99821558 1.51830817 2.28297077]]\n"
     ]
    }
   ],
   "source": [
    "''' Matrices\n",
    "Create two matrices A and B of size 5X6 and 6X5 respectively with random float values from 0 to 1, and perform the dot product on them\n",
    "'''\n",
    "\n",
    "# BEGIN_YOUR_CODE\n",
    "A = np.random.rand(5, 6)\n",
    "B = np.random.rand(6, 5)\n",
    "dot_product = np.dot(A, B)\n",
    "# END_YOUR_CODE\n",
    "\n",
    "print('\\nMatrix A is \\n{0} \\nMatrix B is \\n{1}, \\nTheir product is \\n{2}'.format(A, B, dot_product))"
   ]
  },
  {
   "cell_type": "code",
   "execution_count": 316,
   "metadata": {
    "colab": {
     "base_uri": "https://localhost:8080/"
    },
    "id": "cf2kSBLXvnnN",
    "outputId": "ed32eeca-dac9-4632-e946-149e1ad60923"
   },
   "outputs": [
    {
     "name": "stdout",
     "output_type": "stream",
     "text": [
      "[0.9640373940909275, 0.9953082232989302, 0.8264916954265417, 0.8956302373509896, 0.9524878316829841]\n"
     ]
    }
   ],
   "source": [
    "''' Maximum value\n",
    "Return the maximum value present in each row of Matrix A created in the previous question. \n",
    "Result should come in the form: [row1_max row2_max row3_max row4_max row5_max]\n",
    "'''\n",
    "\n",
    "# BEGIN_YOUR_CODE\n",
    "list_of_max = []\n",
    "\n",
    "for i in A:\n",
    "    list_of_max.append(max(i))\n",
    "\n",
    "print(list_of_max)\n",
    "# END_YOUR_CODE"
   ]
  },
  {
   "cell_type": "code",
   "execution_count": 317,
   "metadata": {
    "colab": {
     "base_uri": "https://localhost:8080/"
    },
    "id": "khuCG55GvnnO",
    "outputId": "37cc6fd7-43fa-460b-cf3a-56d2ac2001e9"
   },
   "outputs": [
    {
     "name": "stdout",
     "output_type": "stream",
     "text": [
      "[[2.64983906 0.5369718  2.89211218 1.87871467 0.64389011 0.06597376]\n",
      " [1.26674489 2.98592467 2.45738418 2.00769659 0.93580223 0.4617045 ]\n",
      " [0.89117497 1.21791191 1.75929513 2.47947509 0.67840299 1.63038539]\n",
      " [2.68689071 0.56877187 0.03491987 1.21206539 0.1242171  1.16392894]\n",
      " [2.02959697 2.01369893 0.54624403 1.87025181 2.8574635  2.60665736]]\n"
     ]
    }
   ],
   "source": [
    "''' Multiply the Matrix A from previous question with a scalar 3\n",
    "'''\n",
    "\n",
    "# BEGIN_YOUR_CODE\n",
    "scalar_mult = (A * 3)\n",
    "print(scalar_mult)\n",
    "# END_YOUR_CODE"
   ]
  },
  {
   "cell_type": "code",
   "execution_count": 339,
   "metadata": {
    "colab": {
     "base_uri": "https://localhost:8080/"
    },
    "id": "KVFM3ERnvnnP",
    "outputId": "e1ea4298-aada-4028-9e86-66f2148d022d"
   },
   "outputs": [
    {
     "name": "stdout",
     "output_type": "stream",
     "text": [
      "\n",
      "Matrix A is \n",
      "[[4 2 1 9]\n",
      " [3 4 9 5]] \n",
      "Matrix B is \n",
      "[[1 9 9 0]\n",
      " [9 0 4 9]], \n",
      "Their element-wise multiplication is \n",
      "[[ 4 18  9  0]\n",
      " [27  0 36 45]]\n"
     ]
    }
   ],
   "source": [
    "''' Element-wise multiplication\n",
    "Define two matrices A and B 2x4 with random integer values from 0 to 9. Perform element-wise multiplication of Matrices A and B\n",
    "''' \n",
    "\n",
    "# BEGIN_YOUR_CODE\n",
    "A = np.random.randint(10, size=(2, 4))\n",
    "B = np.random.randint(10, size=(2, 4))\n",
    "\n",
    "multiplicaiton = np.multiply(A, B)\n",
    "# END_YOUR_CODE\n",
    "\n",
    "print('\\nMatrix A is \\n{0} \\nMatrix B is \\n{1}, \\nTheir element-wise multiplication is \\n{2}'.format(A, B, multiplicaiton))"
   ]
  },
  {
   "attachments": {},
   "cell_type": "markdown",
   "metadata": {
    "id": "uiyFNoJivnnQ"
   },
   "source": [
    "<a id='part3'></a>\n",
    "## Part 2 - Algorithms [25 points]"
   ]
  },
  {
   "attachments": {},
   "cell_type": "markdown",
   "metadata": {
    "id": "bE9PC_sEvnnQ"
   },
   "source": [
    "### Euclidian Distance\n",
    "\n",
    "Let point $p$ have Cartesian coordinates $(p_1,p_2)$ and let point $q$ have coordinates $(q_1,q_2)$. Then the distance between $p$ and $q$ is given by:\n",
    "    $d(p,q) = \\sqrt{(q_1-p_1)^2 + (q_2-p_2)^2}$.</math>"
   ]
  },
  {
   "cell_type": "code",
   "execution_count": 26,
   "metadata": {
    "id": "eWfSpbVqvnnR"
   },
   "outputs": [],
   "source": [
    "''' Euclidean distance\n",
    "Using numpy library return the Euclidean distance between two locations, where the locations are pairs of numbers (e.g., (3, 5)) '''\n",
    "\n",
    "def euclidean_distance(loc1: int, loc2: int) -> float:\n",
    "\n",
    "    # BEGIN_YOUR_CODE\n",
    "    import numpy as np\n",
    "    from numpy import random\n",
    "    arr_1 = np.array(loc1)\n",
    "    arr_2 = np.array(loc2)\n",
    "    euc_dist = np.linalg.norm(arr_1 - arr_2)\n",
    "    return euc_dist\n",
    "    # END_YOUR_CODE"
   ]
  },
  {
   "cell_type": "code",
   "execution_count": 22,
   "metadata": {
    "id": "aKXPrvGBvnnR"
   },
   "outputs": [],
   "source": [
    "def euclidean_distance_test():\n",
    "    random.seed(72)\n",
    "    for _ in range(10):\n",
    "        x1 = random.randint(0, 10)\n",
    "        x2 = random.randint(0, 10)\n",
    "        y1 = random.randint(0, 10)\n",
    "        y2 = random.randint(0, 10)\n",
    "        dist = euclidean_distance((x1, x2), (y1, y2))\n",
    "    return('Loc1 is ({0}, {1}), loc2 is ({2}, {3}). Euclidian disctance is {4}.'.format(x1, x2, y1, y2, dist))"
   ]
  },
  {
   "cell_type": "code",
   "execution_count": 27,
   "metadata": {
    "colab": {
     "base_uri": "https://localhost:8080/"
    },
    "id": "yI3g4R1hvnnR",
    "outputId": "3cc7c267-1e95-4d8c-a9b4-ee112feb311b"
   },
   "outputs": [
    {
     "name": "stdout",
     "output_type": "stream",
     "text": [
      "Loc1 is (3, 8), loc2 is (2, 1). Euclidian disctance is 7.0710678118654755.\n"
     ]
    }
   ],
   "source": [
    "if __name__ == '__main__':\n",
    "    print(euclidean_distance_test())"
   ]
  },
  {
   "attachments": {},
   "cell_type": "markdown",
   "metadata": {
    "id": "lTuFruDrvnnR"
   },
   "source": [
    "### String Operations"
   ]
  },
  {
   "cell_type": "code",
   "execution_count": 149,
   "metadata": {
    "id": "AGJHIeXkvnnS"
   },
   "outputs": [],
   "source": [
    "''' Alphabetically first word\n",
    "Given a string, convert it to lowercase, sort out all words in the alphabetical order and return the word that comes first.\n",
    "If the input text is an empty string, return an empty string or throw an error.  '''\n",
    "\n",
    "def first_word(text: str) -> str:\n",
    "    \n",
    "    # BEGIN_YOUR_CODE\n",
    "    lowercase = text.lower()        \n",
    "    list_of_text = lowercase.split()\n",
    "    list_of_text.sort()\n",
    "\n",
    "    if (len(list_of_text) == 0):\n",
    "        return ''\n",
    "    else:\n",
    "        return list_of_text[0]\n",
    "    \n",
    "    # END_YOUR_CODE"
   ]
  },
  {
   "cell_type": "code",
   "execution_count": 150,
   "metadata": {
    "id": "Suevhw9TvnnS"
   },
   "outputs": [],
   "source": [
    "def first_word_test():\n",
    "    result0 = first_word('WelCome tO Ub')\n",
    "    result1 = first_word('CSE474-574 IntRo to ML cLasS')\n",
    "    result2 = first_word('SequenCes of DeCiSions')\n",
    "    result3 = first_word('Wolf, Panther, Leopard, Dog, Cat')\n",
    "    return result0, result1, result2, result3"
   ]
  },
  {
   "cell_type": "code",
   "execution_count": 151,
   "metadata": {
    "colab": {
     "base_uri": "https://localhost:8080/"
    },
    "id": "DfSoFXLrvnnT",
    "outputId": "3d6d98f7-6ba5-41da-f3f1-2bfd7f048955"
   },
   "outputs": [
    {
     "name": "stdout",
     "output_type": "stream",
     "text": [
      "('to', 'class', 'decisions', 'cat')\n"
     ]
    }
   ],
   "source": [
    "if __name__ == '__main__':\n",
    "    print(first_word_test())"
   ]
  },
  {
   "attachments": {},
   "cell_type": "markdown",
   "metadata": {
    "id": "zW6tTqawDOBv"
   },
   "source": [
    "## Load from Drive*\n",
    "\n",
    "*If you are using Goolge Colab, uncomment the following piece of code and verify the file using the command, if you can see your file ```penguins.csv``` you are good to go."
   ]
  },
  {
   "cell_type": "code",
   "execution_count": null,
   "metadata": {},
   "outputs": [],
   "source": [
    "# !pwd\n",
    "# !ls"
   ]
  },
  {
   "cell_type": "code",
   "execution_count": null,
   "metadata": {
    "id": "nV7Jv5SPDGsy"
   },
   "outputs": [],
   "source": [
    "#from google.colab import drive\n",
    "#drive.mount('/content/drive')\n",
    "#%cd ..\n",
    "#%cd /content/drive/MyDrive"
   ]
  },
  {
   "attachments": {},
   "cell_type": "markdown",
   "metadata": {
    "id": "zGMa8NVpvnnU"
   },
   "source": [
    "<a id='part4'></a>\n",
    "##  Part 3 - Pandas Basics [25 points]\n",
    "\n",
    "Some important resources:\n",
    "\n",
    "- [A Pandas guide](https://pandasguide.readthedocs.io/en/latest/) covers fundamental information about the package\n",
    "\n",
    "- [Pandas Cheat Sheet](https://www.datacamp.com/community/blog/python-pandas-cheat-sheet)\n",
    "\n",
    "### Penguin dataset\n",
    "In this section we will explore with you Palmer Archipelago (Antarctica) penguin dataset. It contains three penguin species and includes measurements of bill length, bill depth, flipper length and body mass. Overall, we are provided with 344 data samples.\n",
    "\n",
    "The dataset consists of 7 columns:\n",
    "- species: penguin species (Chinstrap, Adélie, or Gentoo)\n",
    "- culmen_length_mm: culmen length (mm)\n",
    "- culmen_depth_mm: culmen depth (mm)\n",
    "- flipper_length_mm: flipper length (mm)\n",
    "- body_mass_g: body mass (g)\n",
    "- island: island name (Dream, Torgersen, or Biscoe) in the Palmer Archipelago (Antarctica)\n",
    "- sex: penguin sex (female, male)\n",
    "\n",
    "#### What are culmen length & depth?\n",
    "The culmen is \"the upper ridge of a bird's beak\"\n",
    "\n",
    "#### What are flippers?\n",
    "Penguins wings are called flippers. They are flat, thin, and broad with a long, tapered shape and a blunt, rounded tip."
   ]
  },
  {
   "cell_type": "code",
   "execution_count": 156,
   "metadata": {
    "id": "-JA6l-hpvnnU"
   },
   "outputs": [
    {
     "name": "stdout",
     "output_type": "stream",
     "text": [
      "Requirement already satisfied: pandas in c:\\users\\cpsou\\appdata\\local\\programs\\python\\python311\\lib\\site-packages (2.0.2)\n",
      "Requirement already satisfied: python-dateutil>=2.8.2 in c:\\users\\cpsou\\appdata\\roaming\\python\\python311\\site-packages (from pandas) (2.8.2)\n",
      "Requirement already satisfied: pytz>=2020.1 in c:\\users\\cpsou\\appdata\\local\\programs\\python\\python311\\lib\\site-packages (from pandas) (2023.3)\n",
      "Requirement already satisfied: tzdata>=2022.1 in c:\\users\\cpsou\\appdata\\local\\programs\\python\\python311\\lib\\site-packages (from pandas) (2023.3)\n",
      "Requirement already satisfied: numpy>=1.21.0 in c:\\users\\cpsou\\appdata\\local\\programs\\python\\python311\\lib\\site-packages (from pandas) (1.24.3)\n",
      "Requirement already satisfied: six>=1.5 in c:\\users\\cpsou\\appdata\\roaming\\python\\python311\\site-packages (from python-dateutil>=2.8.2->pandas) (1.16.0)\n",
      "Note: you may need to restart the kernel to use updated packages.\n"
     ]
    },
    {
     "name": "stderr",
     "output_type": "stream",
     "text": [
      "\n",
      "[notice] A new release of pip available: 22.3.1 -> 23.1.2\n",
      "[notice] To update, run: python.exe -m pip install --upgrade pip\n"
     ]
    }
   ],
   "source": [
    "'''Install and import pandas library\n",
    "'''\n",
    "\n",
    "# BEGIN_YOUR_CODE\n",
    "%pip install pandas\n",
    "import pandas as pd\n",
    "# END_YOUR_CODE"
   ]
  },
  {
   "cell_type": "code",
   "execution_count": 159,
   "metadata": {
    "colab": {
     "base_uri": "https://localhost:8080/",
     "height": 610
    },
    "id": "vNYL_RNyvnnV",
    "outputId": "dc638bb0-e611-4d0b-8d0b-03dc0d8e0906"
   },
   "outputs": [],
   "source": [
    "'''Read given 'DataFile' and extract into Dataframe\n",
    "'''\n",
    "\n",
    "# BEGIN_YOUR_CODE\n",
    "df = pd.read_csv(\"penguins.csv\")\n",
    "# END_YOUR_CODE"
   ]
  },
  {
   "cell_type": "code",
   "execution_count": 240,
   "metadata": {
    "colab": {
     "base_uri": "https://localhost:8080/",
     "height": 312
    },
    "id": "nQhbLF7CvnnV",
    "outputId": "b2760574-8b6d-445d-cfe2-429e33b38825"
   },
   "outputs": [
    {
     "name": "stdout",
     "output_type": "stream",
     "text": [
      "       species     island  bill_length_mm  bill_depth_mm  flipper_length_mm  \\\n",
      "0       Adelie  Torgersen            39.1           18.7              181.0   \n",
      "1       Adelie  Torgersen            39.5           17.4              186.0   \n",
      "2       Adelie  Torgersen            40.3           18.0              195.0   \n",
      "3       Adelie  Torgersen             NaN            NaN                NaN   \n",
      "4       Adelie  Torgersen            36.7           19.3              193.0   \n",
      "..         ...        ...             ...            ...                ...   \n",
      "339  Chinstrap      Dream            55.8           19.8              207.0   \n",
      "340  Chinstrap      Dream            43.5           18.1              202.0   \n",
      "341  Chinstrap      Dream            49.6           18.2              193.0   \n",
      "342  Chinstrap      Dream            50.8           19.0              210.0   \n",
      "343  Chinstrap      Dream            50.2           18.7              198.0   \n",
      "\n",
      "     body_mass_g     sex  \n",
      "0         3750.0    male  \n",
      "1         3800.0  female  \n",
      "2         3250.0  female  \n",
      "3            NaN     NaN  \n",
      "4         3450.0  female  \n",
      "..           ...     ...  \n",
      "339       4000.0    male  \n",
      "340       3400.0  female  \n",
      "341       3775.0    male  \n",
      "342       4100.0    male  \n",
      "343       3775.0  female  \n",
      "\n",
      "[344 rows x 7 columns]\n"
     ]
    },
    {
     "data": {
      "text/html": [
       "<div>\n",
       "<style scoped>\n",
       "    .dataframe tbody tr th:only-of-type {\n",
       "        vertical-align: middle;\n",
       "    }\n",
       "\n",
       "    .dataframe tbody tr th {\n",
       "        vertical-align: top;\n",
       "    }\n",
       "\n",
       "    .dataframe thead th {\n",
       "        text-align: right;\n",
       "    }\n",
       "</style>\n",
       "<table border=\"1\" class=\"dataframe\">\n",
       "  <thead>\n",
       "    <tr style=\"text-align: right;\">\n",
       "      <th></th>\n",
       "      <th>bill_length_mm</th>\n",
       "      <th>bill_depth_mm</th>\n",
       "      <th>flipper_length_mm</th>\n",
       "      <th>body_mass_g</th>\n",
       "    </tr>\n",
       "  </thead>\n",
       "  <tbody>\n",
       "    <tr>\n",
       "      <th>count</th>\n",
       "      <td>342.000000</td>\n",
       "      <td>342.000000</td>\n",
       "      <td>342.000000</td>\n",
       "      <td>342.000000</td>\n",
       "    </tr>\n",
       "    <tr>\n",
       "      <th>mean</th>\n",
       "      <td>43.921930</td>\n",
       "      <td>17.151170</td>\n",
       "      <td>200.915205</td>\n",
       "      <td>4201.754386</td>\n",
       "    </tr>\n",
       "    <tr>\n",
       "      <th>std</th>\n",
       "      <td>5.459584</td>\n",
       "      <td>1.974793</td>\n",
       "      <td>14.061714</td>\n",
       "      <td>801.954536</td>\n",
       "    </tr>\n",
       "    <tr>\n",
       "      <th>min</th>\n",
       "      <td>32.100000</td>\n",
       "      <td>13.100000</td>\n",
       "      <td>172.000000</td>\n",
       "      <td>2700.000000</td>\n",
       "    </tr>\n",
       "    <tr>\n",
       "      <th>25%</th>\n",
       "      <td>39.225000</td>\n",
       "      <td>15.600000</td>\n",
       "      <td>190.000000</td>\n",
       "      <td>3550.000000</td>\n",
       "    </tr>\n",
       "    <tr>\n",
       "      <th>50%</th>\n",
       "      <td>44.450000</td>\n",
       "      <td>17.300000</td>\n",
       "      <td>197.000000</td>\n",
       "      <td>4050.000000</td>\n",
       "    </tr>\n",
       "    <tr>\n",
       "      <th>75%</th>\n",
       "      <td>48.500000</td>\n",
       "      <td>18.700000</td>\n",
       "      <td>213.000000</td>\n",
       "      <td>4750.000000</td>\n",
       "    </tr>\n",
       "    <tr>\n",
       "      <th>max</th>\n",
       "      <td>59.600000</td>\n",
       "      <td>21.500000</td>\n",
       "      <td>231.000000</td>\n",
       "      <td>6300.000000</td>\n",
       "    </tr>\n",
       "  </tbody>\n",
       "</table>\n",
       "</div>"
      ],
      "text/plain": [
       "       bill_length_mm  bill_depth_mm  flipper_length_mm  body_mass_g\n",
       "count      342.000000     342.000000         342.000000   342.000000\n",
       "mean        43.921930      17.151170         200.915205  4201.754386\n",
       "std          5.459584       1.974793          14.061714   801.954536\n",
       "min         32.100000      13.100000         172.000000  2700.000000\n",
       "25%         39.225000      15.600000         190.000000  3550.000000\n",
       "50%         44.450000      17.300000         197.000000  4050.000000\n",
       "75%         48.500000      18.700000         213.000000  4750.000000\n",
       "max         59.600000      21.500000         231.000000  6300.000000"
      ]
     },
     "execution_count": 240,
     "metadata": {},
     "output_type": "execute_result"
    }
   ],
   "source": [
    "'''Provide the main statistics about the entries of the dataset (mean, std, etc.)\n",
    "'''\n",
    "\n",
    "# BEGIN_YOUR_CODE\n",
    "print(df)\n",
    "df.describe()\n",
    "# END_YOUR_CODE"
   ]
  },
  {
   "cell_type": "code",
   "execution_count": 161,
   "metadata": {
    "colab": {
     "base_uri": "https://localhost:8080/"
    },
    "id": "JnuZGhGwvnnW",
    "outputId": "632299d2-4913-40af-95f4-82ba06f9a477"
   },
   "outputs": [
    {
     "name": "stdout",
     "output_type": "stream",
     "text": [
      "(344, 7)\n"
     ]
    }
   ],
   "source": [
    "''' Print shape of the dataset '''\n",
    "\n",
    "# BEGIN_YOUR_CODE\n",
    "print(df.shape)\n",
    "# END_YOUR_CODE"
   ]
  },
  {
   "cell_type": "code",
   "execution_count": 162,
   "metadata": {
    "colab": {
     "base_uri": "https://localhost:8080/"
    },
    "id": "nFWD5zl8vnne",
    "outputId": "6e1ba9b2-534f-4273-d015-b08128a3b9fe"
   },
   "outputs": [
    {
     "name": "stdout",
     "output_type": "stream",
     "text": [
      "Index(['species', 'island', 'bill_length_mm', 'bill_depth_mm',\n",
      "       'flipper_length_mm', 'body_mass_g', 'sex'],\n",
      "      dtype='object')\n"
     ]
    }
   ],
   "source": [
    "''' Return all the columns names'''\n",
    "\n",
    "# BEGIN_YOUR_CODE\n",
    "print(df.columns)\n",
    "# END_YOUR_CODE"
   ]
  },
  {
   "cell_type": "code",
   "execution_count": 169,
   "metadata": {
    "colab": {
     "base_uri": "https://localhost:8080/"
    },
    "id": "6-1Dj0sGvnng",
    "outputId": "5fd43650-6e73-45a2-9161-77684330f89f"
   },
   "outputs": [
    {
     "name": "stdout",
     "output_type": "stream",
     "text": [
      "['Adelie' 'Gentoo' 'Chinstrap']\n"
     ]
    }
   ],
   "source": [
    "''' Print a list of penguin species '''\n",
    "\n",
    "# BEGIN_YOUR_CODE\n",
    "unique_species = df.species.unique()\n",
    "print(unique_species)\n",
    "# END_YOUR_CODE"
   ]
  },
  {
   "cell_type": "code",
   "execution_count": 194,
   "metadata": {},
   "outputs": [
    {
     "name": "stdout",
     "output_type": "stream",
     "text": [
      "species                 Adelie\n",
      "island               Torgersen\n",
      "bill_length_mm            39.1\n",
      "bill_depth_mm             18.7\n",
      "flipper_length_mm        181.0\n",
      "body_mass_g             3750.0\n",
      "sex                       male\n",
      "Name: 0, dtype: object\n",
      "species                 Adelie\n",
      "island               Torgersen\n",
      "bill_length_mm            39.5\n",
      "bill_depth_mm             17.4\n",
      "flipper_length_mm        186.0\n",
      "body_mass_g             3800.0\n",
      "sex                     female\n",
      "Name: 1, dtype: object\n",
      "species                 Adelie\n",
      "island               Torgersen\n",
      "bill_length_mm            40.3\n",
      "bill_depth_mm             18.0\n",
      "flipper_length_mm        195.0\n",
      "body_mass_g             3250.0\n",
      "sex                     female\n",
      "Name: 2, dtype: object\n",
      "species                 Adelie\n",
      "island               Torgersen\n",
      "bill_length_mm             NaN\n",
      "bill_depth_mm              NaN\n",
      "flipper_length_mm          NaN\n",
      "body_mass_g                NaN\n",
      "sex                        NaN\n",
      "Name: 3, dtype: object\n",
      "species                 Adelie\n",
      "island               Torgersen\n",
      "bill_length_mm            36.7\n",
      "bill_depth_mm             19.3\n",
      "flipper_length_mm        193.0\n",
      "body_mass_g             3450.0\n",
      "sex                     female\n",
      "Name: 4, dtype: object\n",
      "species                 Adelie\n",
      "island               Torgersen\n",
      "bill_length_mm            39.3\n",
      "bill_depth_mm             20.6\n",
      "flipper_length_mm        190.0\n",
      "body_mass_g             3650.0\n",
      "sex                       male\n",
      "Name: 5, dtype: object\n",
      "species                 Adelie\n",
      "island               Torgersen\n",
      "bill_length_mm            38.9\n",
      "bill_depth_mm             17.8\n",
      "flipper_length_mm        181.0\n",
      "body_mass_g             3625.0\n",
      "sex                     female\n",
      "Name: 6, dtype: object\n",
      "species                 Adelie\n",
      "island               Torgersen\n",
      "bill_length_mm            39.2\n",
      "bill_depth_mm             19.6\n",
      "flipper_length_mm        195.0\n",
      "body_mass_g             4675.0\n",
      "sex                       male\n",
      "Name: 7, dtype: object\n",
      "species                 Adelie\n",
      "island               Torgersen\n",
      "bill_length_mm            34.1\n",
      "bill_depth_mm             18.1\n",
      "flipper_length_mm        193.0\n",
      "body_mass_g             3475.0\n",
      "sex                        NaN\n",
      "Name: 8, dtype: object\n",
      "species                 Adelie\n",
      "island               Torgersen\n",
      "bill_length_mm            42.0\n",
      "bill_depth_mm             20.2\n",
      "flipper_length_mm        190.0\n",
      "body_mass_g             4250.0\n",
      "sex                        NaN\n",
      "Name: 9, dtype: object\n"
     ]
    }
   ],
   "source": [
    "'''Print the first 10 rows of the dataset'''\n",
    "\n",
    "# BEGIN_YOUR_CODE\n",
    "for i in range(0, 10):\n",
    "    print(df.loc[i])\n",
    "# END_YOUR_CODE"
   ]
  },
  {
   "attachments": {},
   "cell_type": "markdown",
   "metadata": {
    "id": "YNq5ppEGvnnh"
   },
   "source": [
    "<a id='part5'></a>\n",
    "## Part 4 - Matplotlib Basics [25 points]"
   ]
  },
  {
   "attachments": {},
   "cell_type": "markdown",
   "metadata": {
    "id": "MyidlhZlIPa2"
   },
   "source": [
    "Heatmaps are a useful plot tool which help us visualize the data density or distribution. Refer the below documentation for more details on heatmap.\n",
    "\n",
    "[Matplotlib tutorial](https://machinelearningknowledge.ai/matplotlib-heatmap-complete-tutorial-for-beginners/)\n",
    "\n",
    "**Note:** You can only use matplotlib library for the following tasks"
   ]
  },
  {
   "cell_type": "code",
   "execution_count": 196,
   "metadata": {
    "id": "bfFqEdGEvnnh"
   },
   "outputs": [
    {
     "name": "stdout",
     "output_type": "stream",
     "text": [
      "Requirement already satisfied: matplotlib in c:\\users\\cpsou\\appdata\\local\\programs\\python\\python311\\lib\\site-packages (3.7.1)\n",
      "Requirement already satisfied: contourpy>=1.0.1 in c:\\users\\cpsou\\appdata\\local\\programs\\python\\python311\\lib\\site-packages (from matplotlib) (1.0.7)\n",
      "Requirement already satisfied: cycler>=0.10 in c:\\users\\cpsou\\appdata\\local\\programs\\python\\python311\\lib\\site-packages (from matplotlib) (0.11.0)\n",
      "Requirement already satisfied: fonttools>=4.22.0 in c:\\users\\cpsou\\appdata\\local\\programs\\python\\python311\\lib\\site-packages (from matplotlib) (4.39.4)\n",
      "Requirement already satisfied: kiwisolver>=1.0.1 in c:\\users\\cpsou\\appdata\\local\\programs\\python\\python311\\lib\\site-packages (from matplotlib) (1.4.4)\n",
      "Requirement already satisfied: numpy>=1.20 in c:\\users\\cpsou\\appdata\\local\\programs\\python\\python311\\lib\\site-packages (from matplotlib) (1.24.3)\n",
      "Requirement already satisfied: packaging>=20.0 in c:\\users\\cpsou\\appdata\\roaming\\python\\python311\\site-packages (from matplotlib) (23.1)\n",
      "Requirement already satisfied: pillow>=6.2.0 in c:\\users\\cpsou\\appdata\\local\\programs\\python\\python311\\lib\\site-packages (from matplotlib) (9.5.0)\n",
      "Requirement already satisfied: pyparsing>=2.3.1 in c:\\users\\cpsou\\appdata\\local\\programs\\python\\python311\\lib\\site-packages (from matplotlib) (3.0.9)\n",
      "Requirement already satisfied: python-dateutil>=2.7 in c:\\users\\cpsou\\appdata\\roaming\\python\\python311\\site-packages (from matplotlib) (2.8.2)\n",
      "Requirement already satisfied: six>=1.5 in c:\\users\\cpsou\\appdata\\roaming\\python\\python311\\site-packages (from python-dateutil>=2.7->matplotlib) (1.16.0)\n",
      "Note: you may need to restart the kernel to use updated packages.\n"
     ]
    },
    {
     "name": "stderr",
     "output_type": "stream",
     "text": [
      "\n",
      "[notice] A new release of pip available: 22.3.1 -> 23.1.2\n",
      "[notice] To update, run: python.exe -m pip install --upgrade pip\n"
     ]
    }
   ],
   "source": [
    "''' Install and import matplotlib library\n",
    "'''\n",
    "\n",
    "# BEGIN_YOUR_CODE\n",
    "%pip install matplotlib\n",
    "import matplotlib as mpl\n",
    "# END_YOUR_CODE"
   ]
  },
  {
   "cell_type": "code",
   "execution_count": 34,
   "metadata": {
    "colab": {
     "base_uri": "https://localhost:8080/",
     "height": 282
    },
    "id": "25-jR3OHstb_",
    "outputId": "39eaa5da-3359-4016-9202-41a575d92e37"
   },
   "outputs": [
    {
     "name": "stdout",
     "output_type": "stream",
     "text": [
      "[[8 1 3 2 0 9 3 1 8 8 6 8 7 4 9]\n",
      " [1 0 9 0 1 8 7 6 5 4 4 6 5 7 1]\n",
      " [0 2 9 5 6 6 2 7 1 7 5 9 1 6 7]\n",
      " [1 3 5 8 4 2 2 4 7 4 9 3 7 5 6]\n",
      " [7 8 3 2 3 5 4 3 6 6 8 4 3 0 6]\n",
      " [4 3 1 1 9 4 7 7 0 0 6 8 7 9 3]\n",
      " [6 0 7 3 3 3 4 0 6 4 4 7 6 9 1]\n",
      " [2 5 6 3 2 5 2 5 9 5 1 9 2 3 2]\n",
      " [2 6 5 9 5 6 2 4 4 0 2 9 0 7 0]\n",
      " [9 8 0 5 5 2 7 7 4 7 9 7 1 7 0]]\n"
     ]
    },
    {
     "data": {
      "image/png": "[encoded data removed]",
      "text/plain": [
       "<Figure size 640x480 with 1 Axes>"
      ]
     },
     "metadata": {},
     "output_type": "display_data"
    }
   ],
   "source": [
    "''' Heatmap\n",
    "Take any random numpy array of dimension 10x15 and plot a heatmap\n",
    "'''\n",
    "\n",
    "# BEGIN YOUR CODE\n",
    "import matplotlib.pyplot as plt\n",
    "\n",
    "rand_arr = np.random.randint(10, size=(10, 15))\n",
    "print(rand_arr)\n",
    "fig, ax = plt.subplots()\n",
    "im = ax.imshow(rand_arr)\n",
    "# END YOUR CODE"
   ]
  },
  {
   "cell_type": "code",
   "execution_count": 50,
   "metadata": {
    "colab": {
     "base_uri": "https://localhost:8080/",
     "height": 265
    },
    "id": "VD6WIdUU4-PA",
    "outputId": "26c87f7b-3c6d-4d3c-a218-6b34d1fe0f53"
   },
   "outputs": [
    {
     "data": {
      "image/png": "[encoded data removed]",
      "text/plain": [
       "<Figure size 640x480 with 1 Axes>"
      ]
     },
     "metadata": {},
     "output_type": "display_data"
    }
   ],
   "source": [
    "'''For the given value x plot the function y = 1/x using list comprehension on y.\n",
    "You can check https://docs.python.org/3/tutorial/datastructures.html#list-comprehensions to learn how to use list comprehension\n",
    "'''\n",
    "\n",
    "x = range(1,25)\n",
    "\n",
    "# BEGIN YOUR CODE\n",
    "y = [(1 / x) for x in x]\n",
    "plt.plot(y)\n",
    "plt.show()\n",
    "# END YOUR CODE"
   ]
  },
  {
   "cell_type": "code",
   "execution_count": 63,
   "metadata": {
    "colab": {
     "base_uri": "https://localhost:8080/",
     "height": 268
    },
    "id": "GB4uqfd8K495",
    "outputId": "7b073e40-da0a-4654-ecc4-031252f8df69"
   },
   "outputs": [
    {
     "data": {
      "text/plain": [
       "[<matplotlib.lines.Line2D at 0x113e63742d0>]"
      ]
     },
     "execution_count": 63,
     "metadata": {},
     "output_type": "execute_result"
    },
    {
     "data": {
      "image/png": "[encoded data removed]",
      "text/plain": [
       "<Figure size 640x480 with 1 Axes>"
      ]
     },
     "metadata": {},
     "output_type": "display_data"
    }
   ],
   "source": [
    "'''For the given value x plot the function y = x^2 using lambda function y.\n",
    "\n",
    "Lambda function is a small anonymous function which consist of a single expression, and is usually used when we need the function for a smaller duration\n",
    "https://realpython.com/python-lambda/\n",
    "'''\n",
    "\n",
    "x = range(25)\n",
    "\n",
    "# BEGIN YOUR CODE\n",
    "#y = [pow(x, 2) for x in x]\n",
    "func_plot = lambda: [pow(i, 2) for i in x]\n",
    "y = func_plot()\n",
    "plt.plot(x, y)\n",
    "# END YOUR CODE\n"
   ]
  },
  {
   "cell_type": "code",
   "execution_count": 71,
   "metadata": {},
   "outputs": [
    {
     "data": {
      "text/plain": [
       "<matplotlib.collections.PathCollection at 0x113e66c5d10>"
      ]
     },
     "execution_count": 71,
     "metadata": {},
     "output_type": "execute_result"
    },
    {
     "data": {
      "image/png": "[encoded data removed]",
      "text/plain": [
       "<Figure size 640x480 with 1 Axes>"
      ]
     },
     "metadata": {},
     "output_type": "display_data"
    }
   ],
   "source": [
    "'''On one graph plot the following (Draw two lines on one graph):\n",
    "1) Plot the function y = x^2 using lambda function y (use your code from above)\n",
    "2) A scatter plot for y = x^3 using either list comprehension or lambda function for evaluating y\n",
    "'''\n",
    "\n",
    "x = range(25)\n",
    "\n",
    "# BEGIN YOUR CODE\n",
    "func1_plot = lambda: [pow(i, 2) for i in x]\n",
    "func2_plot = lambda: [pow(i, 3) for i in x]\n",
    "\n",
    "y1 = func1_plot()\n",
    "y2 = func2_plot()\n",
    "plt.plot(x, y1)\n",
    "plt.scatter(x, y2)\n",
    "# END YOUR CODE"
   ]
  },
  {
   "cell_type": "code",
   "execution_count": 150,
   "metadata": {
    "colab": {
     "base_uri": "https://localhost:8080/",
     "height": 265
    },
    "id": "AEbDCKYH7UfV",
    "outputId": "91484bff-8e4d-4901-e799-b38f48d5fadd"
   },
   "outputs": [
    {
     "data": {
      "image/png": "[encoded data removed]",
      "text/plain": [
       "<Figure size 640x480 with 2 Axes>"
      ]
     },
     "metadata": {},
     "output_type": "display_data"
    }
   ],
   "source": [
    "'''Create subplots showing graphs of tan and cot side by side of each other\n",
    "the value of theta ranges from -70 to 70\n",
    "\n",
    "HINT: You might want to utilize np.linspace() or np.arrange() to create smooth curves\n",
    "'''\n",
    "\n",
    "import math\n",
    "\n",
    "# BEGIN YOUR CODE\n",
    "theta = np.linspace(-70, 70)\n",
    "tan = (np.sin(np.radians(theta)) / np.cos(np.radians(theta)))\n",
    "cot = (1 / tan)\n",
    "\n",
    "fig, (ax1, ax2) = plt.subplots(1, 2)\n",
    "ax1.plot(theta, tan)\n",
    "ax2.plot(theta, cot)\n",
    "plt.show()\n",
    "# END YOUR CODE"
   ]
  },
  {
   "cell_type": "code",
   "execution_count": 182,
   "metadata": {},
   "outputs": [
    {
     "data": {
      "image/png": "[encoded data removed]",
      "text/plain": [
       "<Figure size 640x480 with 1 Axes>"
      ]
     },
     "metadata": {},
     "output_type": "display_data"
    }
   ],
   "source": [
    "''' Penguin (\"penguin.csv\"): total number of penguins per Species\n",
    "Plot a graph which shows the total number of penguins per species\n",
    "'''\n",
    "\n",
    "# BEGIN YOUR CODE\n",
    "#import pandas as pd\n",
    "df = pd.read_csv(\"penguins.csv\")\n",
    "\n",
    "species_count = df[\"species\"].value_counts()\n",
    "species = species_count.index\n",
    "\n",
    "plt.bar(species, species_count)\n",
    "plt.show()\n",
    "# END YOUR CODE"
   ]
  },
  {
   "cell_type": "code",
   "execution_count": 9,
   "metadata": {
    "colab": {
     "base_uri": "https://localhost:8080/",
     "height": 264
    },
    "id": "yENY45pIs_S9",
    "outputId": "5c7a6231-46fa-4d86-8e8d-a5e1b09fd8bf"
   },
   "outputs": [
    {
     "data": {
      "image/png": "[encoded data removed]",
      "text/plain": [
       "<Figure size 640x480 with 1 Axes>"
      ]
     },
     "metadata": {},
     "output_type": "display_data"
    }
   ],
   "source": [
    "''' Penguin (\"penguin.csv\"): total number of penguins between range of body mass\n",
    "Plot a graph which shows the total number of penguins having body_mass_g between 3200 and 4500\n",
    "'''\n",
    "\n",
    "# BEGIN YOUR CODE\n",
    "peng_weight = df[\"body_mass_g\"].value_counts()\n",
    "peng_weight_count = peng_weight.index\n",
    "\n",
    "plt.bar(peng_weight_count, peng_weight)\n",
    "plt.xlim([3200, 4500])\n",
    "plt.show()\n",
    "# END YOUR CODE"
   ]
  },
  {
   "attachments": {},
   "cell_type": "markdown",
   "metadata": {
    "id": "Oo6h1NH6R6Pq"
   },
   "source": [
    "#### Results analyzing\n",
    "\n",
    "Analyze the graph and answer the following two questions:\n",
    "\n",
    "**1) What is your inference from the above graph?**\n",
    "\n",
    "        Most penguin weights are that are between 3200 and 4500 grams are actually between 3850 and 4000 grams.\n",
    "\n",
    "**2) Which species has the most number of penguins having body_mass_g between 3200 and 4500?**\n",
    "\n",
    "        Adelie\n",
    "\n",
    "**3) Which is the most common species of penguins?**\n",
    "\n",
    "        Adelie"
   ]
  },
  {
   "attachments": {},
   "cell_type": "markdown",
   "metadata": {
    "id": "qB6WA8H64cK5"
   },
   "source": [
    "# Bonus - Sckit-learn Basics [5 points]\n",
    "\n",
    "Sckit-learn is a commonly used data analysis library. It contains in-build unsupervised and supervised learning algorithms. Check more details here - https://scikit-learn.org/stable/"
   ]
  },
  {
   "cell_type": "code",
   "execution_count": null,
   "metadata": {},
   "outputs": [],
   "source": [
    "'''Install and import scikit-learn library\n",
    "'''\n",
    "\n",
    "# BEGIN_YOUR_CODE\n",
    "\n",
    "# END_YOUR_CODE"
   ]
  },
  {
   "cell_type": "code",
   "execution_count": null,
   "metadata": {},
   "outputs": [],
   "source": [
    "''' Prepare Penguins dataset for training\n",
    "    Define our X_data = all the columns, except 'Species'. You can use drop() function\n",
    "    Define Y_target = 'Species' column from the dataset\n",
    "    Using train_test_split function divide the dataset into training and testing as 80/20. \n",
    "'''\n",
    "\n",
    "# BEGIN_YOUR_CODE\n",
    "\n",
    "# END_YOUR_CODE"
   ]
  },
  {
   "cell_type": "code",
   "execution_count": null,
   "metadata": {},
   "outputs": [],
   "source": [
    "''' Fit the model\n",
    "    Create and fit a logistic regression model to predict the 'Species' of a penguin using all of the other features in the dataset.\n",
    "    You can use one hot encoding to encode categorical-based feature ('island' and 'sex').\n",
    "    You can read more about the inbuilt Logistic Regression model here - https://scikit-learn.org/stable/modules/generated/sklearn.linear_model.LogisticRegression.html\n",
    "    Return the accuracy_score of your prediction and parameter values\n",
    "'''\n",
    "\n",
    "# BEGIN_YOUR_CODE\n",
    "    \n",
    "# END_YOUR_CODE"
   ]
  },
  {
   "attachments": {},
   "cell_type": "markdown",
   "metadata": {
    "id": "toxZCPhevnni"
   },
   "source": [
    "## References Used\n",
    "\n",
    "**List below all the references you used to complete the assignment**"
   ]
  },
  {
   "attachments": {},
   "cell_type": "markdown",
   "metadata": {},
   "source": [
    "https://www.geeksforgeeks.org/python-get-a-list-as-input-from-user/#"
   ]
  },
  {
   "attachments": {},
   "cell_type": "markdown",
   "metadata": {},
   "source": [
    "https://www.w3schools.com/python/ref_string_split.asp"
   ]
  },
  {
   "attachments": {},
   "cell_type": "markdown",
   "metadata": {},
   "source": [
    "https://stackoverflow.com/questions/1712227/how-do-i-get-the-number-of-elements-in-a-list-length-of-a-list-in-python"
   ]
  },
  {
   "attachments": {},
   "cell_type": "markdown",
   "metadata": {},
   "source": [
    "https://docs.python.org/3/howto/regex.html"
   ]
  },
  {
   "attachments": {},
   "cell_type": "markdown",
   "metadata": {},
   "source": [
    "https://docs.python.org/3.11/library/stdtypes.html?highlight=list#list"
   ]
  },
  {
   "attachments": {},
   "cell_type": "markdown",
   "metadata": {},
   "source": [
    "https://stackoverflow.com/questions/11178061/print-list-without-brackets-in-a-single-row"
   ]
  },
  {
   "attachments": {},
   "cell_type": "markdown",
   "metadata": {},
   "source": [
    "https://docs.python.org/3.11/library/functions.html?highlight=enumerate#enumerate"
   ]
  },
  {
   "attachments": {},
   "cell_type": "markdown",
   "metadata": {},
   "source": [
    "https://docs.python.org/3.11/library/functions.html?highlight=zip#zip"
   ]
  },
  {
   "attachments": {},
   "cell_type": "markdown",
   "metadata": {},
   "source": [
    "https://docs.python.org/3.11/library/functions.html?highlight=modulo"
   ]
  },
  {
   "attachments": {},
   "cell_type": "markdown",
   "metadata": {},
   "source": [
    "https://stackoverflow.com/questions/14651025/how-to-determine-if-an-integer-is-even-or-odd"
   ]
  },
  {
   "attachments": {},
   "cell_type": "markdown",
   "metadata": {},
   "source": [
    "https://www.w3schools.com/python/python_regex.asp#findall"
   ]
  },
  {
   "attachments": {},
   "cell_type": "markdown",
   "metadata": {},
   "source": [
    "https://www.w3schools.com/python/numpy/numpy_random.asp"
   ]
  },
  {
   "attachments": {},
   "cell_type": "markdown",
   "metadata": {},
   "source": [
    "https://www.geeksforgeeks.org/python-list-slicing/#"
   ]
  },
  {
   "attachments": {},
   "cell_type": "markdown",
   "metadata": {},
   "source": [
    "https://numpy.org/doc/stable/reference/generated/numpy.split.html"
   ]
  },
  {
   "attachments": {},
   "cell_type": "markdown",
   "metadata": {},
   "source": [
    "https://www.w3schools.com/python/numpy/numpy_array_split.asp"
   ]
  },
  {
   "attachments": {},
   "cell_type": "markdown",
   "metadata": {},
   "source": [
    "https://stackoverflow.com/questions/1613249/numpy-comparing-elements-in-two-arrays"
   ]
  },
  {
   "attachments": {},
   "cell_type": "markdown",
   "metadata": {},
   "source": [
    "https://stackoverflow.com/questions/19341365/setting-two-arrays-equal"
   ]
  },
  {
   "attachments": {},
   "cell_type": "markdown",
   "metadata": {},
   "source": [
    "https://numpy.org/doc/stable/reference/generated/numpy.isin.html#numpy.isin"
   ]
  },
  {
   "attachments": {},
   "cell_type": "markdown",
   "metadata": {},
   "source": [
    "https://stackoverflow.com/questions/56887220/is-there-any-difference-between-numpy-matrix-and-np-asmatrix"
   ]
  },
  {
   "attachments": {},
   "cell_type": "markdown",
   "metadata": {},
   "source": [
    "https://stackoverflow.com/questions/40279536/python-from-matrix-to-1-d-array"
   ]
  },
  {
   "attachments": {},
   "cell_type": "markdown",
   "metadata": {},
   "source": [
    "https://numpy.org/doc/"
   ]
  },
  {
   "attachments": {},
   "cell_type": "markdown",
   "metadata": {},
   "source": [
    "https://stackoverflow.com/questions/15451958/simple-way-to-create-matrix-of-random-numbers"
   ]
  },
  {
   "attachments": {},
   "cell_type": "markdown",
   "metadata": {},
   "source": [
    "https://stackoverflow.com/questions/15616742/vectorized-way-of-calculating-row-wise-dot-product-two-matrices-with-scipy"
   ]
  },
  {
   "attachments": {},
   "cell_type": "markdown",
   "metadata": {},
   "source": [
    "https://realpython.com/numpy-max-maximum/"
   ]
  },
  {
   "attachments": {},
   "cell_type": "markdown",
   "metadata": {},
   "source": [
    "https://www.geeksforgeeks.org/python-program-to-find-maximum-element-of-each-row-in-a-matrix/"
   ]
  },
  {
   "attachments": {},
   "cell_type": "markdown",
   "metadata": {},
   "source": [
    "https://numpy.org/doc/stable/reference/generated/numpy.multiply.html#numpy-multiply"
   ]
  },
  {
   "attachments": {},
   "cell_type": "markdown",
   "metadata": {},
   "source": [
    "https://www.geeksforgeeks.org/calculate-the-euclidean-distance-using-numpy/"
   ]
  },
  {
   "attachments": {},
   "cell_type": "markdown",
   "metadata": {},
   "source": [
    "https://www.freecodecamp.org/news/python-lowercase-how-to-use-the-string-lower-function/"
   ]
  },
  {
   "attachments": {},
   "cell_type": "markdown",
   "metadata": {},
   "source": [
    "https://stackoverflow.com/questions/36139/how-to-sort-a-list-of-strings"
   ]
  },
  {
   "attachments": {},
   "cell_type": "markdown",
   "metadata": {},
   "source": [
    "https://stackoverflow.com/questions/14365542/import-csv-file-as-a-pandas-dataframe"
   ]
  },
  {
   "attachments": {},
   "cell_type": "markdown",
   "metadata": {},
   "source": [
    "https://www.datacamp.com/cheat-sheet/pandas-cheat-sheet-for-data-science-in-python"
   ]
  },
  {
   "attachments": {},
   "cell_type": "markdown",
   "metadata": {},
   "source": [
    "https://www.geeksforgeeks.org/get-unique-values-from-a-column-in-pandas-dataframe/"
   ]
  },
  {
   "attachments": {},
   "cell_type": "markdown",
   "metadata": {},
   "source": [
    "https://www.statology.org/pandas-print-row/"
   ]
  },
  {
   "attachments": {},
   "cell_type": "markdown",
   "metadata": {},
   "source": [
    "https://matplotlib.org/stable/tutorials/introductory/quick_start.html"
   ]
  },
  {
   "attachments": {},
   "cell_type": "markdown",
   "metadata": {},
   "source": [
    "https://numpy.org/doc/stable/reference/random/generated/numpy.random.randint.html"
   ]
  },
  {
   "attachments": {},
   "cell_type": "markdown",
   "metadata": {},
   "source": [
    "https://matplotlib.org/stable/gallery/images_contours_and_fields/image_annotated_heatmap.html"
   ]
  },
  {
   "attachments": {},
   "cell_type": "markdown",
   "metadata": {},
   "source": [
    "https://docs.python.org/3/tutorial/datastructures.html#list-comprehensions"
   ]
  },
  {
   "attachments": {},
   "cell_type": "markdown",
   "metadata": {},
   "source": [
    "https://www.geeksforgeeks.org/python-lambda/#"
   ]
  },
  {
   "attachments": {},
   "cell_type": "markdown",
   "metadata": {},
   "source": [
    "https://matplotlib.org/stable/gallery/subplots_axes_and_figures/subplots_demo.html"
   ]
  },
  {
   "attachments": {},
   "cell_type": "markdown",
   "metadata": {},
   "source": [
    "https://www.desmos.com/calculator"
   ]
  },
  {
   "attachments": {},
   "cell_type": "markdown",
   "metadata": {},
   "source": [
    "https://www.geeksforgeeks.org/python-math-tan-function/"
   ]
  },
  {
   "attachments": {},
   "cell_type": "markdown",
   "metadata": {},
   "source": [
    "https://pandas.pydata.org/pandas-docs/stable/reference/api/pandas.DataFrame.value_counts.html"
   ]
  },
  {
   "attachments": {},
   "cell_type": "markdown",
   "metadata": {},
   "source": [
    "https://pandas.pydata.org/pandas-docs/stable/reference/api/pandas.DataFrame.html?highlight=datafra#pandas.DataFrame"
   ]
  },
  {
   "attachments": {},
   "cell_type": "markdown",
   "metadata": {},
   "source": [
    "https://stackabuse.com/how-to-set-axis-range-xlim-ylim-in-matplotlib/"
   ]
  },
  {
   "attachments": {},
   "cell_type": "markdown",
   "metadata": {},
   "source": []
  },
  {
   "attachments": {},
   "cell_type": "markdown",
   "metadata": {},
   "source": []
  },
  {
   "attachments": {},
   "cell_type": "markdown",
   "metadata": {},
   "source": []
  },
  {
   "attachments": {},
   "cell_type": "markdown",
   "metadata": {},
   "source": []
  }
 ],
 "metadata": {
  "celltoolbar": "Raw Cell Format",
  "colab": {
   "collapsed_sections": [
    "uiyFNoJivnnQ",
    "bE9PC_sEvnnQ",
    "lTuFruDrvnnR",
    "zGMa8NVpvnnU",
    "toxZCPhevnni"
   ],
   "name": "fall21_eas595_Assignmnet1[INTERNAL].ipynb",
   "provenance": []
  },
  "kernelspec": {
   "display_name": "Python 3 (ipykernel)",
   "language": "python",
   "name": "python3"
  },
  "language_info": {
   "codemirror_mode": {
    "name": "ipython",
    "version": 3
   },
   "file_extension": ".py",
   "mimetype": "text/x-python",
   "name": "python",
   "nbconvert_exporter": "python",
   "pygments_lexer": "ipython3",
   "version": "3.11.3"
  }
 },
 "nbformat": 4,
 "nbformat_minor": 4
}
